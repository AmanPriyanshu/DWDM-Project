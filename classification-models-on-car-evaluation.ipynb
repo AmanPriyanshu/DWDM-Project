{
 "cells": [
  {
   "cell_type": "markdown",
   "id": "b98afa1c",
   "metadata": {
    "papermill": {
     "duration": 0.024644,
     "end_time": "2022-09-30T15:00:29.782057",
     "exception": false,
     "start_time": "2022-09-30T15:00:29.757413",
     "status": "completed"
    },
    "tags": []
   },
   "source": [
    "## Applying scikit-learn's Logistic Regression, Naive Bayes Classifier, KNN Classifier, MLP Classifier, Decision Tree Classifier, Random Forest Classifier and XGBoost to the Car Evaluation Dataset\n",
    "## 1: Setup\n",
    "### 1.1: Importing Essential Libraries"
   ]
  },
  {
   "cell_type": "code",
   "execution_count": 1,
   "id": "b1e6feb1",
   "metadata": {
    "execution": {
     "iopub.execute_input": "2022-09-30T15:00:29.818625Z",
     "iopub.status.busy": "2022-09-30T15:00:29.818050Z",
     "iopub.status.idle": "2022-09-30T15:00:30.758469Z",
     "shell.execute_reply": "2022-09-30T15:00:30.757547Z"
    },
    "papermill": {
     "duration": 0.961394,
     "end_time": "2022-09-30T15:00:30.761437",
     "exception": false,
     "start_time": "2022-09-30T15:00:29.800043",
     "status": "completed"
    },
    "tags": []
   },
   "outputs": [],
   "source": [
    "import numpy as np\n",
    "import pandas as pd\n",
    "import matplotlib.pyplot as plt\n",
    "import seaborn as sns \n",
    "%matplotlib inline"
   ]
  },
  {
   "cell_type": "markdown",
   "id": "b6200bff",
   "metadata": {
    "papermill": {
     "duration": 0.01173,
     "end_time": "2022-09-30T15:00:30.785574",
     "exception": false,
     "start_time": "2022-09-30T15:00:30.773844",
     "status": "completed"
    },
    "tags": []
   },
   "source": [
    "### 1.2 Reading the data:"
   ]
  },
  {
   "cell_type": "code",
   "execution_count": 2,
   "id": "262cc82f",
   "metadata": {
    "execution": {
     "iopub.execute_input": "2022-09-30T15:00:30.810416Z",
     "iopub.status.busy": "2022-09-30T15:00:30.810084Z",
     "iopub.status.idle": "2022-09-30T15:00:30.850797Z",
     "shell.execute_reply": "2022-09-30T15:00:30.849743Z"
    },
    "papermill": {
     "duration": 0.056149,
     "end_time": "2022-09-30T15:00:30.853388",
     "exception": false,
     "start_time": "2022-09-30T15:00:30.797239",
     "status": "completed"
    },
    "tags": []
   },
   "outputs": [
    {
     "name": "stdout",
     "output_type": "stream",
     "text": [
      "(1727, 7)\n"
     ]
    },
    {
     "data": {
      "text/html": [
       "<div>\n",
       "<style scoped>\n",
       "    .dataframe tbody tr th:only-of-type {\n",
       "        vertical-align: middle;\n",
       "    }\n",
       "\n",
       "    .dataframe tbody tr th {\n",
       "        vertical-align: top;\n",
       "    }\n",
       "\n",
       "    .dataframe thead th {\n",
       "        text-align: right;\n",
       "    }\n",
       "</style>\n",
       "<table border=\"1\" class=\"dataframe\">\n",
       "  <thead>\n",
       "    <tr style=\"text-align: right;\">\n",
       "      <th></th>\n",
       "      <th>buyPrice</th>\n",
       "      <th>maintCost</th>\n",
       "      <th>noDoors</th>\n",
       "      <th>noPersons</th>\n",
       "      <th>bootLuggage</th>\n",
       "      <th>safety</th>\n",
       "      <th>decision</th>\n",
       "    </tr>\n",
       "  </thead>\n",
       "  <tbody>\n",
       "    <tr>\n",
       "      <th>0</th>\n",
       "      <td>vhigh</td>\n",
       "      <td>vhigh</td>\n",
       "      <td>2</td>\n",
       "      <td>2</td>\n",
       "      <td>small</td>\n",
       "      <td>med</td>\n",
       "      <td>unacc</td>\n",
       "    </tr>\n",
       "    <tr>\n",
       "      <th>1</th>\n",
       "      <td>vhigh</td>\n",
       "      <td>vhigh</td>\n",
       "      <td>2</td>\n",
       "      <td>2</td>\n",
       "      <td>small</td>\n",
       "      <td>high</td>\n",
       "      <td>unacc</td>\n",
       "    </tr>\n",
       "    <tr>\n",
       "      <th>2</th>\n",
       "      <td>vhigh</td>\n",
       "      <td>vhigh</td>\n",
       "      <td>2</td>\n",
       "      <td>2</td>\n",
       "      <td>med</td>\n",
       "      <td>low</td>\n",
       "      <td>unacc</td>\n",
       "    </tr>\n",
       "    <tr>\n",
       "      <th>3</th>\n",
       "      <td>vhigh</td>\n",
       "      <td>vhigh</td>\n",
       "      <td>2</td>\n",
       "      <td>2</td>\n",
       "      <td>med</td>\n",
       "      <td>med</td>\n",
       "      <td>unacc</td>\n",
       "    </tr>\n",
       "    <tr>\n",
       "      <th>4</th>\n",
       "      <td>vhigh</td>\n",
       "      <td>vhigh</td>\n",
       "      <td>2</td>\n",
       "      <td>2</td>\n",
       "      <td>med</td>\n",
       "      <td>high</td>\n",
       "      <td>unacc</td>\n",
       "    </tr>\n",
       "  </tbody>\n",
       "</table>\n",
       "</div>"
      ],
      "text/plain": [
       "  buyPrice maintCost noDoors noPersons bootLuggage safety decision\n",
       "0    vhigh     vhigh       2         2       small    med    unacc\n",
       "1    vhigh     vhigh       2         2       small   high    unacc\n",
       "2    vhigh     vhigh       2         2         med    low    unacc\n",
       "3    vhigh     vhigh       2         2         med    med    unacc\n",
       "4    vhigh     vhigh       2         2         med   high    unacc"
      ]
     },
     "execution_count": 2,
     "metadata": {},
     "output_type": "execute_result"
    }
   ],
   "source": [
    "col_names = ['buyPrice', 'maintCost', 'noDoors', 'noPersons', 'bootLuggage', 'safety', 'decision']\n",
    "path = \"../input/car-evaluation-data-set/car_evaluation.csv\"\n",
    "car_data = pd.read_csv(path, header = 0, names = col_names)\n",
    "\n",
    "print(car_data.shape)\n",
    "car_data.head()"
   ]
  },
  {
   "cell_type": "markdown",
   "id": "dcc73900",
   "metadata": {
    "papermill": {
     "duration": 0.011782,
     "end_time": "2022-09-30T15:00:30.876863",
     "exception": false,
     "start_time": "2022-09-30T15:00:30.865081",
     "status": "completed"
    },
    "tags": []
   },
   "source": [
    "Hence, we see that there are 1727 rows and 7 feature columns."
   ]
  },
  {
   "cell_type": "code",
   "execution_count": 3,
   "id": "6497c19f",
   "metadata": {
    "execution": {
     "iopub.execute_input": "2022-09-30T15:00:30.902748Z",
     "iopub.status.busy": "2022-09-30T15:00:30.902094Z",
     "iopub.status.idle": "2022-09-30T15:00:30.922186Z",
     "shell.execute_reply": "2022-09-30T15:00:30.921271Z"
    },
    "papermill": {
     "duration": 0.036446,
     "end_time": "2022-09-30T15:00:30.925199",
     "exception": false,
     "start_time": "2022-09-30T15:00:30.888753",
     "status": "completed"
    },
    "tags": []
   },
   "outputs": [
    {
     "name": "stdout",
     "output_type": "stream",
     "text": [
      "<class 'pandas.core.frame.DataFrame'>\n",
      "RangeIndex: 1727 entries, 0 to 1726\n",
      "Data columns (total 7 columns):\n",
      " #   Column       Non-Null Count  Dtype \n",
      "---  ------       --------------  ----- \n",
      " 0   buyPrice     1727 non-null   object\n",
      " 1   maintCost    1727 non-null   object\n",
      " 2   noDoors      1727 non-null   object\n",
      " 3   noPersons    1727 non-null   object\n",
      " 4   bootLuggage  1727 non-null   object\n",
      " 5   safety       1727 non-null   object\n",
      " 6   decision     1727 non-null   object\n",
      "dtypes: object(7)\n",
      "memory usage: 94.6+ KB\n"
     ]
    }
   ],
   "source": [
    "car_data.info()"
   ]
  },
  {
   "cell_type": "markdown",
   "id": "d77b2fc6",
   "metadata": {
    "papermill": {
     "duration": 0.011855,
     "end_time": "2022-09-30T15:00:30.949804",
     "exception": false,
     "start_time": "2022-09-30T15:00:30.937949",
     "status": "completed"
    },
    "tags": []
   },
   "source": [
    "We can check the frequency count of the labels in the categorical variables:"
   ]
  },
  {
   "cell_type": "code",
   "execution_count": 4,
   "id": "5896be8a",
   "metadata": {
    "execution": {
     "iopub.execute_input": "2022-09-30T15:00:30.974800Z",
     "iopub.status.busy": "2022-09-30T15:00:30.974522Z",
     "iopub.status.idle": "2022-09-30T15:00:30.987037Z",
     "shell.execute_reply": "2022-09-30T15:00:30.986003Z"
    },
    "papermill": {
     "duration": 0.027398,
     "end_time": "2022-09-30T15:00:30.988977",
     "exception": false,
     "start_time": "2022-09-30T15:00:30.961579",
     "status": "completed"
    },
    "tags": []
   },
   "outputs": [
    {
     "name": "stdout",
     "output_type": "stream",
     "text": [
      "high     432\n",
      "med      432\n",
      "low      432\n",
      "vhigh    431\n",
      "Name: buyPrice, dtype: int64\n",
      "high     432\n",
      "med      432\n",
      "low      432\n",
      "vhigh    431\n",
      "Name: maintCost, dtype: int64\n",
      "3        432\n",
      "4        432\n",
      "5more    432\n",
      "2        431\n",
      "Name: noDoors, dtype: int64\n",
      "4       576\n",
      "more    576\n",
      "2       575\n",
      "Name: noPersons, dtype: int64\n",
      "med      576\n",
      "big      576\n",
      "small    575\n",
      "Name: bootLuggage, dtype: int64\n",
      "med     576\n",
      "high    576\n",
      "low     575\n",
      "Name: safety, dtype: int64\n",
      "unacc    1209\n",
      "acc       384\n",
      "good       69\n",
      "vgood      65\n",
      "Name: decision, dtype: int64\n"
     ]
    }
   ],
   "source": [
    "for col in col_names:\n",
    "    \n",
    "    print(car_data[col].value_counts())   "
   ]
  },
  {
   "cell_type": "markdown",
   "id": "2b0f4019",
   "metadata": {
    "papermill": {
     "duration": 0.012097,
     "end_time": "2022-09-30T15:00:31.012898",
     "exception": false,
     "start_time": "2022-09-30T15:00:31.000801",
     "status": "completed"
    },
    "tags": []
   },
   "source": [
    "Tallying up the total for each feature results in the number of rows: 1727, so there are no null values. We can check again with:"
   ]
  },
  {
   "cell_type": "code",
   "execution_count": 5,
   "id": "49ef421a",
   "metadata": {
    "execution": {
     "iopub.execute_input": "2022-09-30T15:00:31.038830Z",
     "iopub.status.busy": "2022-09-30T15:00:31.038001Z",
     "iopub.status.idle": "2022-09-30T15:00:31.046175Z",
     "shell.execute_reply": "2022-09-30T15:00:31.045034Z"
    },
    "papermill": {
     "duration": 0.023632,
     "end_time": "2022-09-30T15:00:31.048382",
     "exception": false,
     "start_time": "2022-09-30T15:00:31.024750",
     "status": "completed"
    },
    "tags": []
   },
   "outputs": [
    {
     "data": {
      "text/plain": [
       "buyPrice       0\n",
       "maintCost      0\n",
       "noDoors        0\n",
       "noPersons      0\n",
       "bootLuggage    0\n",
       "safety         0\n",
       "decision       0\n",
       "dtype: int64"
      ]
     },
     "execution_count": 5,
     "metadata": {},
     "output_type": "execute_result"
    }
   ],
   "source": [
    "car_data.isnull().sum()"
   ]
  },
  {
   "cell_type": "markdown",
   "id": "291d672e",
   "metadata": {
    "papermill": {
     "duration": 0.011983,
     "end_time": "2022-09-30T15:00:31.072291",
     "exception": false,
     "start_time": "2022-09-30T15:00:31.060308",
     "status": "completed"
    },
    "tags": []
   },
   "source": [
    "So, there are no null values in the dataset."
   ]
  },
  {
   "cell_type": "markdown",
   "id": "af4e56e4",
   "metadata": {
    "papermill": {
     "duration": 0.012042,
     "end_time": "2022-09-30T15:00:31.096222",
     "exception": false,
     "start_time": "2022-09-30T15:00:31.084180",
     "status": "completed"
    },
    "tags": []
   },
   "source": [
    "## 2: Exploratory Data Analysis\n",
    "### 2.1: Encoding Categorical Features\n",
    "Since some of our features are categorical, we must encode them to integer form:"
   ]
  },
  {
   "cell_type": "code",
   "execution_count": 6,
   "id": "4db8baf8",
   "metadata": {
    "execution": {
     "iopub.execute_input": "2022-09-30T15:00:31.122079Z",
     "iopub.status.busy": "2022-09-30T15:00:31.121298Z",
     "iopub.status.idle": "2022-09-30T15:00:31.453712Z",
     "shell.execute_reply": "2022-09-30T15:00:31.452706Z"
    },
    "papermill": {
     "duration": 0.351648,
     "end_time": "2022-09-30T15:00:31.460058",
     "exception": false,
     "start_time": "2022-09-30T15:00:31.108410",
     "status": "completed"
    },
    "tags": []
   },
   "outputs": [
    {
     "name": "stdout",
     "output_type": "stream",
     "text": [
      "   buyPrice  maintCost  noDoors  noPersons  bootLuggage  safety decision\n",
      "0         1          1        1          1            1       1    unacc\n",
      "1         1          1        1          1            1       2    unacc\n",
      "2         1          1        1          1            2       3    unacc\n",
      "3         1          1        1          1            2       1    unacc\n",
      "4         1          1        1          1            2       2    unacc\n"
     ]
    },
    {
     "data": {
      "text/html": [
       "<div>\n",
       "<style scoped>\n",
       "    .dataframe tbody tr th:only-of-type {\n",
       "        vertical-align: middle;\n",
       "    }\n",
       "\n",
       "    .dataframe tbody tr th {\n",
       "        vertical-align: top;\n",
       "    }\n",
       "\n",
       "    .dataframe thead th {\n",
       "        text-align: right;\n",
       "    }\n",
       "</style>\n",
       "<table border=\"1\" class=\"dataframe\">\n",
       "  <thead>\n",
       "    <tr style=\"text-align: right;\">\n",
       "      <th></th>\n",
       "      <th>buyPrice</th>\n",
       "      <th>maintCost</th>\n",
       "      <th>noDoors</th>\n",
       "      <th>noPersons</th>\n",
       "      <th>bootLuggage</th>\n",
       "      <th>safety</th>\n",
       "      <th>decision</th>\n",
       "    </tr>\n",
       "  </thead>\n",
       "  <tbody>\n",
       "    <tr>\n",
       "      <th>0</th>\n",
       "      <td>1</td>\n",
       "      <td>1</td>\n",
       "      <td>1</td>\n",
       "      <td>1</td>\n",
       "      <td>1</td>\n",
       "      <td>1</td>\n",
       "      <td>unacc</td>\n",
       "    </tr>\n",
       "    <tr>\n",
       "      <th>1</th>\n",
       "      <td>1</td>\n",
       "      <td>1</td>\n",
       "      <td>1</td>\n",
       "      <td>1</td>\n",
       "      <td>1</td>\n",
       "      <td>2</td>\n",
       "      <td>unacc</td>\n",
       "    </tr>\n",
       "    <tr>\n",
       "      <th>2</th>\n",
       "      <td>1</td>\n",
       "      <td>1</td>\n",
       "      <td>1</td>\n",
       "      <td>1</td>\n",
       "      <td>2</td>\n",
       "      <td>3</td>\n",
       "      <td>unacc</td>\n",
       "    </tr>\n",
       "    <tr>\n",
       "      <th>3</th>\n",
       "      <td>1</td>\n",
       "      <td>1</td>\n",
       "      <td>1</td>\n",
       "      <td>1</td>\n",
       "      <td>2</td>\n",
       "      <td>1</td>\n",
       "      <td>unacc</td>\n",
       "    </tr>\n",
       "    <tr>\n",
       "      <th>4</th>\n",
       "      <td>1</td>\n",
       "      <td>1</td>\n",
       "      <td>1</td>\n",
       "      <td>1</td>\n",
       "      <td>2</td>\n",
       "      <td>2</td>\n",
       "      <td>unacc</td>\n",
       "    </tr>\n",
       "  </tbody>\n",
       "</table>\n",
       "</div>"
      ],
      "text/plain": [
       "   buyPrice  maintCost  noDoors  noPersons  bootLuggage  safety decision\n",
       "0         1          1        1          1            1       1    unacc\n",
       "1         1          1        1          1            1       2    unacc\n",
       "2         1          1        1          1            2       3    unacc\n",
       "3         1          1        1          1            2       1    unacc\n",
       "4         1          1        1          1            2       2    unacc"
      ]
     },
     "execution_count": 6,
     "metadata": {},
     "output_type": "execute_result"
    }
   ],
   "source": [
    "import category_encoders as ce\n",
    "\n",
    "encoder = ce.OrdinalEncoder(cols=['buyPrice', 'maintCost', 'noDoors', 'noPersons', 'bootLuggage', 'safety'])\n",
    "\n",
    "car_data = encoder.fit_transform(car_data)\n",
    "\n",
    "print(car_data.head())\n",
    "car_data.head()"
   ]
  },
  {
   "cell_type": "markdown",
   "id": "51519eab",
   "metadata": {
    "papermill": {
     "duration": 0.022699,
     "end_time": "2022-09-30T15:00:31.509053",
     "exception": false,
     "start_time": "2022-09-30T15:00:31.486354",
     "status": "completed"
    },
    "tags": []
   },
   "source": [
    "### 2.2 Summary stats"
   ]
  },
  {
   "cell_type": "code",
   "execution_count": 7,
   "id": "65a080b9",
   "metadata": {
    "execution": {
     "iopub.execute_input": "2022-09-30T15:00:31.548713Z",
     "iopub.status.busy": "2022-09-30T15:00:31.548290Z",
     "iopub.status.idle": "2022-09-30T15:00:31.592695Z",
     "shell.execute_reply": "2022-09-30T15:00:31.591827Z"
    },
    "papermill": {
     "duration": 0.066722,
     "end_time": "2022-09-30T15:00:31.595171",
     "exception": false,
     "start_time": "2022-09-30T15:00:31.528449",
     "status": "completed"
    },
    "tags": []
   },
   "outputs": [
    {
     "data": {
      "text/html": [
       "<div>\n",
       "<style scoped>\n",
       "    .dataframe tbody tr th:only-of-type {\n",
       "        vertical-align: middle;\n",
       "    }\n",
       "\n",
       "    .dataframe tbody tr th {\n",
       "        vertical-align: top;\n",
       "    }\n",
       "\n",
       "    .dataframe thead th {\n",
       "        text-align: right;\n",
       "    }\n",
       "</style>\n",
       "<table border=\"1\" class=\"dataframe\">\n",
       "  <thead>\n",
       "    <tr style=\"text-align: right;\">\n",
       "      <th></th>\n",
       "      <th>buyPrice</th>\n",
       "      <th>maintCost</th>\n",
       "      <th>noDoors</th>\n",
       "      <th>noPersons</th>\n",
       "      <th>bootLuggage</th>\n",
       "      <th>safety</th>\n",
       "    </tr>\n",
       "  </thead>\n",
       "  <tbody>\n",
       "    <tr>\n",
       "      <th>count</th>\n",
       "      <td>1727.00</td>\n",
       "      <td>1727.00</td>\n",
       "      <td>1727.00</td>\n",
       "      <td>1727.00</td>\n",
       "      <td>1727.00</td>\n",
       "      <td>1727.00</td>\n",
       "    </tr>\n",
       "    <tr>\n",
       "      <th>mean</th>\n",
       "      <td>2.50</td>\n",
       "      <td>2.50</td>\n",
       "      <td>2.50</td>\n",
       "      <td>2.00</td>\n",
       "      <td>2.00</td>\n",
       "      <td>2.00</td>\n",
       "    </tr>\n",
       "    <tr>\n",
       "      <th>std</th>\n",
       "      <td>1.12</td>\n",
       "      <td>1.12</td>\n",
       "      <td>1.12</td>\n",
       "      <td>0.82</td>\n",
       "      <td>0.82</td>\n",
       "      <td>0.82</td>\n",
       "    </tr>\n",
       "    <tr>\n",
       "      <th>min</th>\n",
       "      <td>1.00</td>\n",
       "      <td>1.00</td>\n",
       "      <td>1.00</td>\n",
       "      <td>1.00</td>\n",
       "      <td>1.00</td>\n",
       "      <td>1.00</td>\n",
       "    </tr>\n",
       "    <tr>\n",
       "      <th>25%</th>\n",
       "      <td>2.00</td>\n",
       "      <td>2.00</td>\n",
       "      <td>2.00</td>\n",
       "      <td>1.00</td>\n",
       "      <td>1.00</td>\n",
       "      <td>1.00</td>\n",
       "    </tr>\n",
       "    <tr>\n",
       "      <th>50%</th>\n",
       "      <td>3.00</td>\n",
       "      <td>3.00</td>\n",
       "      <td>3.00</td>\n",
       "      <td>2.00</td>\n",
       "      <td>2.00</td>\n",
       "      <td>2.00</td>\n",
       "    </tr>\n",
       "    <tr>\n",
       "      <th>75%</th>\n",
       "      <td>3.50</td>\n",
       "      <td>3.50</td>\n",
       "      <td>3.50</td>\n",
       "      <td>3.00</td>\n",
       "      <td>3.00</td>\n",
       "      <td>3.00</td>\n",
       "    </tr>\n",
       "    <tr>\n",
       "      <th>max</th>\n",
       "      <td>4.00</td>\n",
       "      <td>4.00</td>\n",
       "      <td>4.00</td>\n",
       "      <td>3.00</td>\n",
       "      <td>3.00</td>\n",
       "      <td>3.00</td>\n",
       "    </tr>\n",
       "  </tbody>\n",
       "</table>\n",
       "</div>"
      ],
      "text/plain": [
       "       buyPrice  maintCost  noDoors  noPersons  bootLuggage   safety\n",
       "count   1727.00    1727.00  1727.00    1727.00      1727.00  1727.00\n",
       "mean       2.50       2.50     2.50       2.00         2.00     2.00\n",
       "std        1.12       1.12     1.12       0.82         0.82     0.82\n",
       "min        1.00       1.00     1.00       1.00         1.00     1.00\n",
       "25%        2.00       2.00     2.00       1.00         1.00     1.00\n",
       "50%        3.00       3.00     3.00       2.00         2.00     2.00\n",
       "75%        3.50       3.50     3.50       3.00         3.00     3.00\n",
       "max        4.00       4.00     4.00       3.00         3.00     3.00"
      ]
     },
     "execution_count": 7,
     "metadata": {},
     "output_type": "execute_result"
    }
   ],
   "source": [
    "car_data.describe().round(2)"
   ]
  },
  {
   "cell_type": "markdown",
   "id": "b1c31737",
   "metadata": {
    "papermill": {
     "duration": 0.018134,
     "end_time": "2022-09-30T15:00:31.633119",
     "exception": false,
     "start_time": "2022-09-30T15:00:31.614985",
     "status": "completed"
    },
    "tags": []
   },
   "source": [
    "### 2.3: Univariate histogram plots (feature data distribution)"
   ]
  },
  {
   "cell_type": "code",
   "execution_count": 8,
   "id": "1e050677",
   "metadata": {
    "execution": {
     "iopub.execute_input": "2022-09-30T15:00:31.671141Z",
     "iopub.status.busy": "2022-09-30T15:00:31.670699Z",
     "iopub.status.idle": "2022-09-30T15:00:32.713503Z",
     "shell.execute_reply": "2022-09-30T15:00:32.712638Z"
    },
    "papermill": {
     "duration": 1.064039,
     "end_time": "2022-09-30T15:00:32.715596",
     "exception": false,
     "start_time": "2022-09-30T15:00:31.651557",
     "status": "completed"
    },
    "tags": []
   },
   "outputs": [
    {
     "name": "stderr",
     "output_type": "stream",
     "text": [
      "/opt/conda/lib/python3.7/site-packages/ipykernel_launcher.py:3: UserWarning: To output multiple subplots, the figure containing the passed axes is being cleared\n",
      "  This is separate from the ipykernel package so we can avoid doing imports until\n"
     ]
    },
    {
     "data": {
      "text/plain": [
       "array([[<AxesSubplot:title={'center':'buyPrice'}>,\n",
       "        <AxesSubplot:title={'center':'maintCost'}>],\n",
       "       [<AxesSubplot:title={'center':'noDoors'}>,\n",
       "        <AxesSubplot:title={'center':'noPersons'}>],\n",
       "       [<AxesSubplot:title={'center':'bootLuggage'}>,\n",
       "        <AxesSubplot:title={'center':'safety'}>]], dtype=object)"
      ]
     },
     "execution_count": 8,
     "metadata": {},
     "output_type": "execute_result"
    },
    {
     "data": {
      "image/png": "[encoded data removed]",
      "text/plain": [
       "<Figure size 1080x1440 with 6 Axes>"
      ]
     },
     "metadata": {
      "needs_background": "light"
     },
     "output_type": "display_data"
    }
   ],
   "source": [
    "fig = plt.figure(figsize = (15,20))\n",
    "ax = fig.gca()\n",
    "car_data.hist(ax = ax)"
   ]
  },
  {
   "cell_type": "markdown",
   "id": "5838c9e0",
   "metadata": {
    "papermill": {
     "duration": 0.012859,
     "end_time": "2022-09-30T15:00:32.743523",
     "exception": false,
     "start_time": "2022-09-30T15:00:32.730664",
     "status": "completed"
    },
    "tags": []
   },
   "source": [
    "As we can see, all of the features (except the target feature 'decision') are evenly distributed.\n",
    "This means that when we train the data, we should use a stratified k-fold cross-validation to ensure that there are an even number of samples in the test set. "
   ]
  },
  {
   "cell_type": "markdown",
   "id": "d1f151ff",
   "metadata": {
    "papermill": {
     "duration": 0.013081,
     "end_time": "2022-09-30T15:00:32.771170",
     "exception": false,
     "start_time": "2022-09-30T15:00:32.758089",
     "status": "completed"
    },
    "tags": []
   },
   "source": [
    "### 2.4: Correlation Matrix"
   ]
  },
  {
   "cell_type": "code",
   "execution_count": 9,
   "id": "812a1a84",
   "metadata": {
    "execution": {
     "iopub.execute_input": "2022-09-30T15:00:32.798763Z",
     "iopub.status.busy": "2022-09-30T15:00:32.798445Z",
     "iopub.status.idle": "2022-09-30T15:00:33.172053Z",
     "shell.execute_reply": "2022-09-30T15:00:33.171119Z"
    },
    "papermill": {
     "duration": 0.390167,
     "end_time": "2022-09-30T15:00:33.174232",
     "exception": false,
     "start_time": "2022-09-30T15:00:32.784065",
     "status": "completed"
    },
    "tags": []
   },
   "outputs": [
    {
     "data": {
      "text/plain": [
       "<AxesSubplot:>"
      ]
     },
     "execution_count": 9,
     "metadata": {},
     "output_type": "execute_result"
    },
    {
     "data": {
      "image/png": "[encoded data removed]",
      "text/plain": [
       "<Figure size 864x432 with 2 Axes>"
      ]
     },
     "metadata": {
      "needs_background": "light"
     },
     "output_type": "display_data"
    }
   ],
   "source": [
    "corr_matrix = car_data.corr().round(2)\n",
    "plt.figure(figsize = (12, 6))\n",
    "sns.heatmap(corr_matrix, annot = True)"
   ]
  },
  {
   "cell_type": "markdown",
   "id": "81f93a7e",
   "metadata": {
    "papermill": {
     "duration": 0.013094,
     "end_time": "2022-09-30T15:00:33.201716",
     "exception": false,
     "start_time": "2022-09-30T15:00:33.188622",
     "status": "completed"
    },
    "tags": []
   },
   "source": [
    "None of our features show a strong linear correlation to the data: the column with the greatest absolute correlation coefficient value is noPersons at r = 0.34.\n",
    "Thus, logistic regression will not help us much here. We should look for nonlinear relations for our model."
   ]
  },
  {
   "cell_type": "markdown",
   "id": "ebae49f5",
   "metadata": {
    "papermill": {
     "duration": 0.013259,
     "end_time": "2022-09-30T15:00:33.228349",
     "exception": false,
     "start_time": "2022-09-30T15:00:33.215090",
     "status": "completed"
    },
    "tags": []
   },
   "source": [
    "### 2.5 Splitting training and target features\n",
    "First, we declare our target variable and our feature set:"
   ]
  },
  {
   "cell_type": "code",
   "execution_count": 10,
   "id": "f7793c9a",
   "metadata": {
    "execution": {
     "iopub.execute_input": "2022-09-30T15:00:33.256843Z",
     "iopub.status.busy": "2022-09-30T15:00:33.256253Z",
     "iopub.status.idle": "2022-09-30T15:00:33.267547Z",
     "shell.execute_reply": "2022-09-30T15:00:33.266648Z"
    },
    "papermill": {
     "duration": 0.0278,
     "end_time": "2022-09-30T15:00:33.269588",
     "exception": false,
     "start_time": "2022-09-30T15:00:33.241788",
     "status": "completed"
    },
    "tags": []
   },
   "outputs": [
    {
     "data": {
      "text/html": [
       "<div>\n",
       "<style scoped>\n",
       "    .dataframe tbody tr th:only-of-type {\n",
       "        vertical-align: middle;\n",
       "    }\n",
       "\n",
       "    .dataframe tbody tr th {\n",
       "        vertical-align: top;\n",
       "    }\n",
       "\n",
       "    .dataframe thead th {\n",
       "        text-align: right;\n",
       "    }\n",
       "</style>\n",
       "<table border=\"1\" class=\"dataframe\">\n",
       "  <thead>\n",
       "    <tr style=\"text-align: right;\">\n",
       "      <th></th>\n",
       "      <th>buyPrice</th>\n",
       "      <th>maintCost</th>\n",
       "      <th>noDoors</th>\n",
       "      <th>noPersons</th>\n",
       "      <th>bootLuggage</th>\n",
       "      <th>safety</th>\n",
       "    </tr>\n",
       "  </thead>\n",
       "  <tbody>\n",
       "    <tr>\n",
       "      <th>0</th>\n",
       "      <td>1</td>\n",
       "      <td>1</td>\n",
       "      <td>1</td>\n",
       "      <td>1</td>\n",
       "      <td>1</td>\n",
       "      <td>1</td>\n",
       "    </tr>\n",
       "    <tr>\n",
       "      <th>1</th>\n",
       "      <td>1</td>\n",
       "      <td>1</td>\n",
       "      <td>1</td>\n",
       "      <td>1</td>\n",
       "      <td>1</td>\n",
       "      <td>2</td>\n",
       "    </tr>\n",
       "    <tr>\n",
       "      <th>2</th>\n",
       "      <td>1</td>\n",
       "      <td>1</td>\n",
       "      <td>1</td>\n",
       "      <td>1</td>\n",
       "      <td>2</td>\n",
       "      <td>3</td>\n",
       "    </tr>\n",
       "    <tr>\n",
       "      <th>3</th>\n",
       "      <td>1</td>\n",
       "      <td>1</td>\n",
       "      <td>1</td>\n",
       "      <td>1</td>\n",
       "      <td>2</td>\n",
       "      <td>1</td>\n",
       "    </tr>\n",
       "    <tr>\n",
       "      <th>4</th>\n",
       "      <td>1</td>\n",
       "      <td>1</td>\n",
       "      <td>1</td>\n",
       "      <td>1</td>\n",
       "      <td>2</td>\n",
       "      <td>2</td>\n",
       "    </tr>\n",
       "  </tbody>\n",
       "</table>\n",
       "</div>"
      ],
      "text/plain": [
       "   buyPrice  maintCost  noDoors  noPersons  bootLuggage  safety\n",
       "0         1          1        1          1            1       1\n",
       "1         1          1        1          1            1       2\n",
       "2         1          1        1          1            2       3\n",
       "3         1          1        1          1            2       1\n",
       "4         1          1        1          1            2       2"
      ]
     },
     "execution_count": 10,
     "metadata": {},
     "output_type": "execute_result"
    }
   ],
   "source": [
    "X = car_data.drop(['decision'], axis=1)\n",
    "\n",
    "y = car_data['decision']\n",
    "\n",
    "X.head()"
   ]
  },
  {
   "cell_type": "markdown",
   "id": "967a31f3",
   "metadata": {
    "papermill": {
     "duration": 0.013451,
     "end_time": "2022-09-30T15:00:33.296353",
     "exception": false,
     "start_time": "2022-09-30T15:00:33.282902",
     "status": "completed"
    },
    "tags": []
   },
   "source": [
    "Now we normalize our target features"
   ]
  },
  {
   "cell_type": "code",
   "execution_count": 11,
   "id": "84c9cadb",
   "metadata": {
    "execution": {
     "iopub.execute_input": "2022-09-30T15:00:33.325074Z",
     "iopub.status.busy": "2022-09-30T15:00:33.324777Z",
     "iopub.status.idle": "2022-09-30T15:00:33.366854Z",
     "shell.execute_reply": "2022-09-30T15:00:33.365259Z"
    },
    "papermill": {
     "duration": 0.058973,
     "end_time": "2022-09-30T15:00:33.369381",
     "exception": false,
     "start_time": "2022-09-30T15:00:33.310408",
     "status": "completed"
    },
    "tags": []
   },
   "outputs": [
    {
     "name": "stdout",
     "output_type": "stream",
     "text": [
      "   buyPrice  maintCost  noDoors  noPersons  bootLuggage  safety\n",
      "0       0.0        0.0      0.0        0.0          0.0     0.0\n",
      "1       0.0        0.0      0.0        0.0          0.0     0.5\n",
      "2       0.0        0.0      0.0        0.0          0.5     1.0\n",
      "3       0.0        0.0      0.0        0.0          0.5     0.0\n",
      "4       0.0        0.0      0.0        0.0          0.5     0.5\n"
     ]
    },
    {
     "data": {
      "text/plain": [
       "0    unacc\n",
       "1    unacc\n",
       "2    unacc\n",
       "3    unacc\n",
       "4    unacc\n",
       "Name: decision, dtype: object"
      ]
     },
     "execution_count": 11,
     "metadata": {},
     "output_type": "execute_result"
    }
   ],
   "source": [
    "from sklearn.preprocessing import MinMaxScaler\n",
    "scaler = MinMaxScaler()\n",
    "\n",
    "X[X.columns] = scaler.fit_transform(X[X.columns])\n",
    "\n",
    "print(X.head())\n",
    "y[:5]"
   ]
  },
  {
   "cell_type": "markdown",
   "id": "86d1f6f6",
   "metadata": {
    "papermill": {
     "duration": 0.013793,
     "end_time": "2022-09-30T15:00:33.396954",
     "exception": false,
     "start_time": "2022-09-30T15:00:33.383161",
     "status": "completed"
    },
    "tags": []
   },
   "source": [
    "Now we are ready to instantiate and train the model."
   ]
  },
  {
   "cell_type": "markdown",
   "id": "cdcbab92",
   "metadata": {
    "papermill": {
     "duration": 0.013374,
     "end_time": "2022-09-30T15:00:33.424185",
     "exception": false,
     "start_time": "2022-09-30T15:00:33.410811",
     "status": "completed"
    },
    "tags": []
   },
   "source": [
    "## 3: Logistic Regression"
   ]
  },
  {
   "cell_type": "markdown",
   "id": "fea39e75",
   "metadata": {
    "papermill": {
     "duration": 0.013599,
     "end_time": "2022-09-30T15:00:33.451541",
     "exception": false,
     "start_time": "2022-09-30T15:00:33.437942",
     "status": "completed"
    },
    "tags": []
   },
   "source": [
    "### 3.1: Instantiation"
   ]
  },
  {
   "cell_type": "code",
   "execution_count": 12,
   "id": "1d611ff2",
   "metadata": {
    "execution": {
     "iopub.execute_input": "2022-09-30T15:00:33.480949Z",
     "iopub.status.busy": "2022-09-30T15:00:33.480039Z",
     "iopub.status.idle": "2022-09-30T15:00:33.592960Z",
     "shell.execute_reply": "2022-09-30T15:00:33.592033Z"
    },
    "papermill": {
     "duration": 0.1301,
     "end_time": "2022-09-30T15:00:33.595271",
     "exception": false,
     "start_time": "2022-09-30T15:00:33.465171",
     "status": "completed"
    },
    "tags": []
   },
   "outputs": [],
   "source": [
    "from sklearn.linear_model import LogisticRegression\n",
    "lgr = LogisticRegression()"
   ]
  },
  {
   "cell_type": "markdown",
   "id": "ca4d8ddb",
   "metadata": {
    "papermill": {
     "duration": 0.013538,
     "end_time": "2022-09-30T15:00:33.622964",
     "exception": false,
     "start_time": "2022-09-30T15:00:33.609426",
     "status": "completed"
    },
    "tags": []
   },
   "source": [
    "### 3.2: Training"
   ]
  },
  {
   "cell_type": "code",
   "execution_count": 13,
   "id": "db13d456",
   "metadata": {
    "execution": {
     "iopub.execute_input": "2022-09-30T15:00:33.653197Z",
     "iopub.status.busy": "2022-09-30T15:00:33.651712Z",
     "iopub.status.idle": "2022-09-30T15:00:36.759082Z",
     "shell.execute_reply": "2022-09-30T15:00:36.758104Z"
    },
    "papermill": {
     "duration": 3.124408,
     "end_time": "2022-09-30T15:00:36.761302",
     "exception": false,
     "start_time": "2022-09-30T15:00:33.636894",
     "status": "completed"
    },
    "tags": []
   },
   "outputs": [
    {
     "name": "stderr",
     "output_type": "stream",
     "text": [
      "/opt/conda/lib/python3.7/site-packages/sklearn/linear_model/_logistic.py:818: ConvergenceWarning: lbfgs failed to converge (status=1):\n",
      "STOP: TOTAL NO. of ITERATIONS REACHED LIMIT.\n",
      "\n",
      "Increase the number of iterations (max_iter) or scale the data as shown in:\n",
      "    https://scikit-learn.org/stable/modules/preprocessing.html\n",
      "Please also refer to the documentation for alternative solver options:\n",
      "    https://scikit-learn.org/stable/modules/linear_model.html#logistic-regression\n",
      "  extra_warning_msg=_LOGISTIC_SOLVER_CONVERGENCE_MSG,\n",
      "/opt/conda/lib/python3.7/site-packages/sklearn/linear_model/_logistic.py:818: ConvergenceWarning: lbfgs failed to converge (status=1):\n",
      "STOP: TOTAL NO. of ITERATIONS REACHED LIMIT.\n",
      "\n",
      "Increase the number of iterations (max_iter) or scale the data as shown in:\n",
      "    https://scikit-learn.org/stable/modules/preprocessing.html\n",
      "Please also refer to the documentation for alternative solver options:\n",
      "    https://scikit-learn.org/stable/modules/linear_model.html#logistic-regression\n",
      "  extra_warning_msg=_LOGISTIC_SOLVER_CONVERGENCE_MSG,\n"
     ]
    },
    {
     "data": {
      "text/plain": [
       "{'max_iter': 100, 'penalty': 'l2'}"
      ]
     },
     "execution_count": 13,
     "metadata": {},
     "output_type": "execute_result"
    }
   ],
   "source": [
    "from sklearn.model_selection import GridSearchCV\n",
    "param_grid = {'penalty': ['l2', 'none'],\n",
    "              'max_iter': [100, 200, 300, 400, 500]\n",
    "             }\n",
    "\n",
    "# use gridsearch to do 5-fold cross validation\n",
    "lgr_gscv = GridSearchCV(lgr, param_grid, cv = 5)\n",
    "\n",
    "\n",
    "lgr_gscv.fit(X, y)\n",
    "lgr_gscv.best_params_"
   ]
  },
  {
   "cell_type": "markdown",
   "id": "351f62b6",
   "metadata": {
    "papermill": {
     "duration": 0.013972,
     "end_time": "2022-09-30T15:00:36.790170",
     "exception": false,
     "start_time": "2022-09-30T15:00:36.776198",
     "status": "completed"
    },
    "tags": []
   },
   "source": [
    "### 3.3: Testing"
   ]
  },
  {
   "cell_type": "markdown",
   "id": "92cda63c",
   "metadata": {
    "papermill": {
     "duration": 0.013908,
     "end_time": "2022-09-30T15:00:36.817945",
     "exception": false,
     "start_time": "2022-09-30T15:00:36.804037",
     "status": "completed"
    },
    "tags": []
   },
   "source": [
    "We can now get the best score from the model:"
   ]
  },
  {
   "cell_type": "code",
   "execution_count": 14,
   "id": "bf711641",
   "metadata": {
    "execution": {
     "iopub.execute_input": "2022-09-30T15:00:36.847950Z",
     "iopub.status.busy": "2022-09-30T15:00:36.847349Z",
     "iopub.status.idle": "2022-09-30T15:00:36.853330Z",
     "shell.execute_reply": "2022-09-30T15:00:36.852430Z"
    },
    "papermill": {
     "duration": 0.023166,
     "end_time": "2022-09-30T15:00:36.855361",
     "exception": false,
     "start_time": "2022-09-30T15:00:36.832195",
     "status": "completed"
    },
    "tags": []
   },
   "outputs": [
    {
     "data": {
      "text/plain": [
       "0.6977381251570748"
      ]
     },
     "execution_count": 14,
     "metadata": {},
     "output_type": "execute_result"
    }
   ],
   "source": [
    "lgr_gscv.best_score_"
   ]
  },
  {
   "cell_type": "markdown",
   "id": "b9a362fc",
   "metadata": {
    "papermill": {
     "duration": 0.013865,
     "end_time": "2022-09-30T15:00:36.883465",
     "exception": false,
     "start_time": "2022-09-30T15:00:36.869600",
     "status": "completed"
    },
    "tags": []
   },
   "source": [
    "So, we have a model with an accuracy of 70%."
   ]
  },
  {
   "cell_type": "markdown",
   "id": "d526d672",
   "metadata": {
    "papermill": {
     "duration": 0.014528,
     "end_time": "2022-09-30T15:00:36.912301",
     "exception": false,
     "start_time": "2022-09-30T15:00:36.897773",
     "status": "completed"
    },
    "tags": []
   },
   "source": [
    "## 4: Naive Bayes Classifier"
   ]
  },
  {
   "cell_type": "markdown",
   "id": "d533bd74",
   "metadata": {
    "papermill": {
     "duration": 0.013919,
     "end_time": "2022-09-30T15:00:36.940513",
     "exception": false,
     "start_time": "2022-09-30T15:00:36.926594",
     "status": "completed"
    },
    "tags": []
   },
   "source": [
    "Because our target variable has more than 2 labels, we must use a Multinomial Naive Bayes Classifier"
   ]
  },
  {
   "cell_type": "markdown",
   "id": "a49989d1",
   "metadata": {
    "papermill": {
     "duration": 0.014034,
     "end_time": "2022-09-30T15:00:36.969071",
     "exception": false,
     "start_time": "2022-09-30T15:00:36.955037",
     "status": "completed"
    },
    "tags": []
   },
   "source": [
    "### 4.1: Instantiation"
   ]
  },
  {
   "cell_type": "code",
   "execution_count": 15,
   "id": "b3917a68",
   "metadata": {
    "execution": {
     "iopub.execute_input": "2022-09-30T15:00:36.998947Z",
     "iopub.status.busy": "2022-09-30T15:00:36.998619Z",
     "iopub.status.idle": "2022-09-30T15:00:37.005064Z",
     "shell.execute_reply": "2022-09-30T15:00:37.004254Z"
    },
    "papermill": {
     "duration": 0.02414,
     "end_time": "2022-09-30T15:00:37.007406",
     "exception": false,
     "start_time": "2022-09-30T15:00:36.983266",
     "status": "completed"
    },
    "tags": []
   },
   "outputs": [],
   "source": [
    "from sklearn.naive_bayes import MultinomialNB\n",
    "mnb = MultinomialNB()"
   ]
  },
  {
   "cell_type": "markdown",
   "id": "f803472d",
   "metadata": {
    "papermill": {
     "duration": 0.014118,
     "end_time": "2022-09-30T15:00:37.035540",
     "exception": false,
     "start_time": "2022-09-30T15:00:37.021422",
     "status": "completed"
    },
    "tags": []
   },
   "source": [
    "### 4.2: Training"
   ]
  },
  {
   "cell_type": "code",
   "execution_count": 16,
   "id": "b53f6255",
   "metadata": {
    "execution": {
     "iopub.execute_input": "2022-09-30T15:00:37.064941Z",
     "iopub.status.busy": "2022-09-30T15:00:37.064669Z",
     "iopub.status.idle": "2022-09-30T15:00:37.112673Z",
     "shell.execute_reply": "2022-09-30T15:00:37.111663Z"
    },
    "papermill": {
     "duration": 0.064975,
     "end_time": "2022-09-30T15:00:37.114828",
     "exception": false,
     "start_time": "2022-09-30T15:00:37.049853",
     "status": "completed"
    },
    "tags": []
   },
   "outputs": [
    {
     "data": {
      "text/plain": [
       "GridSearchCV(cv=5, estimator=MultinomialNB(), param_grid={})"
      ]
     },
     "execution_count": 16,
     "metadata": {},
     "output_type": "execute_result"
    }
   ],
   "source": [
    "from sklearn.model_selection import GridSearchCV\n",
    "param_grid = {}\n",
    "\n",
    "# use gridsearch to do 5-fold cross validation\n",
    "mnb_gscv = GridSearchCV(mnb, param_grid, cv = 5)\n",
    "\n",
    "\n",
    "mnb_gscv.fit(X, y)"
   ]
  },
  {
   "cell_type": "markdown",
   "id": "9dea9000",
   "metadata": {
    "papermill": {
     "duration": 0.014063,
     "end_time": "2022-09-30T15:00:37.143827",
     "exception": false,
     "start_time": "2022-09-30T15:00:37.129764",
     "status": "completed"
    },
    "tags": []
   },
   "source": [
    "### 4.3: Testing"
   ]
  },
  {
   "cell_type": "markdown",
   "id": "cb847e39",
   "metadata": {
    "papermill": {
     "duration": 0.014196,
     "end_time": "2022-09-30T15:00:37.172428",
     "exception": false,
     "start_time": "2022-09-30T15:00:37.158232",
     "status": "completed"
    },
    "tags": []
   },
   "source": [
    "We can now get the best score from the model:"
   ]
  },
  {
   "cell_type": "code",
   "execution_count": 17,
   "id": "528aa21c",
   "metadata": {
    "execution": {
     "iopub.execute_input": "2022-09-30T15:00:37.202370Z",
     "iopub.status.busy": "2022-09-30T15:00:37.202049Z",
     "iopub.status.idle": "2022-09-30T15:00:37.208019Z",
     "shell.execute_reply": "2022-09-30T15:00:37.207093Z"
    },
    "papermill": {
     "duration": 0.023227,
     "end_time": "2022-09-30T15:00:37.210043",
     "exception": false,
     "start_time": "2022-09-30T15:00:37.186816",
     "status": "completed"
    },
    "tags": []
   },
   "outputs": [
    {
     "data": {
      "text/plain": [
       "0.7000586411996315"
      ]
     },
     "execution_count": 17,
     "metadata": {},
     "output_type": "execute_result"
    }
   ],
   "source": [
    "mnb_gscv.best_score_"
   ]
  },
  {
   "cell_type": "markdown",
   "id": "b0751a83",
   "metadata": {
    "papermill": {
     "duration": 0.01458,
     "end_time": "2022-09-30T15:00:37.238993",
     "exception": false,
     "start_time": "2022-09-30T15:00:37.224413",
     "status": "completed"
    },
    "tags": []
   },
   "source": [
    "So, we have a model with an accuracy of 70%."
   ]
  },
  {
   "cell_type": "markdown",
   "id": "b2ee3403",
   "metadata": {
    "papermill": {
     "duration": 0.014316,
     "end_time": "2022-09-30T15:00:37.267846",
     "exception": false,
     "start_time": "2022-09-30T15:00:37.253530",
     "status": "completed"
    },
    "tags": []
   },
   "source": [
    "## 5: KNN (K-Nearest Neighbours)"
   ]
  },
  {
   "cell_type": "markdown",
   "id": "3ddbd16c",
   "metadata": {
    "papermill": {
     "duration": 0.014551,
     "end_time": "2022-09-30T15:00:37.296733",
     "exception": false,
     "start_time": "2022-09-30T15:00:37.282182",
     "status": "completed"
    },
    "tags": []
   },
   "source": [
    "### 5.1: Instantiation"
   ]
  },
  {
   "cell_type": "code",
   "execution_count": 18,
   "id": "7f15b563",
   "metadata": {
    "execution": {
     "iopub.execute_input": "2022-09-30T15:00:37.327854Z",
     "iopub.status.busy": "2022-09-30T15:00:37.327555Z",
     "iopub.status.idle": "2022-09-30T15:00:37.376298Z",
     "shell.execute_reply": "2022-09-30T15:00:37.375458Z"
    },
    "papermill": {
     "duration": 0.066354,
     "end_time": "2022-09-30T15:00:37.378365",
     "exception": false,
     "start_time": "2022-09-30T15:00:37.312011",
     "status": "completed"
    },
    "tags": []
   },
   "outputs": [],
   "source": [
    "from sklearn.neighbors import KNeighborsClassifier\n",
    "knn = KNeighborsClassifier()"
   ]
  },
  {
   "cell_type": "markdown",
   "id": "45fa46ec",
   "metadata": {
    "papermill": {
     "duration": 0.014451,
     "end_time": "2022-09-30T15:00:37.407565",
     "exception": false,
     "start_time": "2022-09-30T15:00:37.393114",
     "status": "completed"
    },
    "tags": []
   },
   "source": [
    "### 5.2: Training"
   ]
  },
  {
   "cell_type": "code",
   "execution_count": 19,
   "id": "543170d9",
   "metadata": {
    "execution": {
     "iopub.execute_input": "2022-09-30T15:00:37.437912Z",
     "iopub.status.busy": "2022-09-30T15:00:37.437622Z",
     "iopub.status.idle": "2022-09-30T15:00:38.032302Z",
     "shell.execute_reply": "2022-09-30T15:00:38.031408Z"
    },
    "papermill": {
     "duration": 0.61247,
     "end_time": "2022-09-30T15:00:38.034467",
     "exception": false,
     "start_time": "2022-09-30T15:00:37.421997",
     "status": "completed"
    },
    "tags": []
   },
   "outputs": [
    {
     "data": {
      "text/plain": [
       "KNeighborsClassifier(n_neighbors=7)"
      ]
     },
     "execution_count": 19,
     "metadata": {},
     "output_type": "execute_result"
    }
   ],
   "source": [
    "param_grid = {'n_neighbors': np.arange(2, 10)}\n",
    "\n",
    "# use gridsearch to do 5-fold cross validation\n",
    "knn_gscv = GridSearchCV(knn, param_grid, cv = 5)\n",
    "\n",
    "\n",
    "knn_gscv.fit(X, y)\n",
    "\n",
    "knn_gscv.best_estimator_"
   ]
  },
  {
   "cell_type": "markdown",
   "id": "dfce2e05",
   "metadata": {
    "papermill": {
     "duration": 0.014383,
     "end_time": "2022-09-30T15:00:38.063891",
     "exception": false,
     "start_time": "2022-09-30T15:00:38.049508",
     "status": "completed"
    },
    "tags": []
   },
   "source": [
    "### 5.3: Testing"
   ]
  },
  {
   "cell_type": "markdown",
   "id": "2e2c225f",
   "metadata": {
    "papermill": {
     "duration": 0.014428,
     "end_time": "2022-09-30T15:00:38.093049",
     "exception": false,
     "start_time": "2022-09-30T15:00:38.078621",
     "status": "completed"
    },
    "tags": []
   },
   "source": [
    "We can now get the best score from the model:"
   ]
  },
  {
   "cell_type": "code",
   "execution_count": 20,
   "id": "5cbe8bcf",
   "metadata": {
    "execution": {
     "iopub.execute_input": "2022-09-30T15:00:38.123501Z",
     "iopub.status.busy": "2022-09-30T15:00:38.123157Z",
     "iopub.status.idle": "2022-09-30T15:00:38.129119Z",
     "shell.execute_reply": "2022-09-30T15:00:38.128250Z"
    },
    "papermill": {
     "duration": 0.023554,
     "end_time": "2022-09-30T15:00:38.131273",
     "exception": false,
     "start_time": "2022-09-30T15:00:38.107719",
     "status": "completed"
    },
    "tags": []
   },
   "outputs": [
    {
     "data": {
      "text/plain": [
       "0.9224344475161264"
      ]
     },
     "execution_count": 20,
     "metadata": {},
     "output_type": "execute_result"
    }
   ],
   "source": [
    "knn_gscv.best_score_"
   ]
  },
  {
   "cell_type": "markdown",
   "id": "9058cddc",
   "metadata": {
    "papermill": {
     "duration": 0.014556,
     "end_time": "2022-09-30T15:00:38.160663",
     "exception": false,
     "start_time": "2022-09-30T15:00:38.146107",
     "status": "completed"
    },
    "tags": []
   },
   "source": [
    "So, we have a model with an accuracy of 92%."
   ]
  },
  {
   "cell_type": "markdown",
   "id": "5866ca9c",
   "metadata": {
    "papermill": {
     "duration": 0.014619,
     "end_time": "2022-09-30T15:00:38.190155",
     "exception": false,
     "start_time": "2022-09-30T15:00:38.175536",
     "status": "completed"
    },
    "tags": []
   },
   "source": [
    "## 6: MLP (Multi-Layer Perceptron)"
   ]
  },
  {
   "cell_type": "markdown",
   "id": "51719b9a",
   "metadata": {
    "papermill": {
     "duration": 0.014626,
     "end_time": "2022-09-30T15:00:38.219390",
     "exception": false,
     "start_time": "2022-09-30T15:00:38.204764",
     "status": "completed"
    },
    "tags": []
   },
   "source": [
    "### 6.1: Instantiation"
   ]
  },
  {
   "cell_type": "code",
   "execution_count": 21,
   "id": "b4b066e9",
   "metadata": {
    "execution": {
     "iopub.execute_input": "2022-09-30T15:00:38.250509Z",
     "iopub.status.busy": "2022-09-30T15:00:38.250176Z",
     "iopub.status.idle": "2022-09-30T15:00:38.260301Z",
     "shell.execute_reply": "2022-09-30T15:00:38.259463Z"
    },
    "papermill": {
     "duration": 0.028056,
     "end_time": "2022-09-30T15:00:38.262347",
     "exception": false,
     "start_time": "2022-09-30T15:00:38.234291",
     "status": "completed"
    },
    "tags": []
   },
   "outputs": [],
   "source": [
    "from sklearn.neural_network import MLPClassifier\n",
    "mlp = MLPClassifier(max_iter = 700, random_state = 1)"
   ]
  },
  {
   "cell_type": "markdown",
   "id": "5b2cf5ef",
   "metadata": {
    "papermill": {
     "duration": 0.014657,
     "end_time": "2022-09-30T15:00:38.291925",
     "exception": false,
     "start_time": "2022-09-30T15:00:38.277268",
     "status": "completed"
    },
    "tags": []
   },
   "source": [
    "### 6.2: Training"
   ]
  },
  {
   "cell_type": "markdown",
   "id": "f96ef771",
   "metadata": {
    "papermill": {
     "duration": 0.01499,
     "end_time": "2022-09-30T15:00:38.321775",
     "exception": false,
     "start_time": "2022-09-30T15:00:38.306785",
     "status": "completed"
    },
    "tags": []
   },
   "source": []
  },
  {
   "cell_type": "code",
   "execution_count": 22,
   "id": "30f963b1",
   "metadata": {
    "execution": {
     "iopub.execute_input": "2022-09-30T15:00:38.352907Z",
     "iopub.status.busy": "2022-09-30T15:00:38.352614Z",
     "iopub.status.idle": "2022-09-30T15:11:43.865997Z",
     "shell.execute_reply": "2022-09-30T15:11:43.864462Z"
    },
    "papermill": {
     "duration": 665.566791,
     "end_time": "2022-09-30T15:11:43.903647",
     "exception": false,
     "start_time": "2022-09-30T15:00:38.336856",
     "status": "completed"
    },
    "tags": []
   },
   "outputs": [
    {
     "name": "stderr",
     "output_type": "stream",
     "text": [
      "/opt/conda/lib/python3.7/site-packages/sklearn/neural_network/_multilayer_perceptron.py:696: ConvergenceWarning: Stochastic Optimizer: Maximum iterations (700) reached and the optimization hasn't converged yet.\n",
      "  ConvergenceWarning,\n",
      "/opt/conda/lib/python3.7/site-packages/sklearn/neural_network/_multilayer_perceptron.py:696: ConvergenceWarning: Stochastic Optimizer: Maximum iterations (700) reached and the optimization hasn't converged yet.\n",
      "  ConvergenceWarning,\n",
      "/opt/conda/lib/python3.7/site-packages/sklearn/neural_network/_multilayer_perceptron.py:696: ConvergenceWarning: Stochastic Optimizer: Maximum iterations (700) reached and the optimization hasn't converged yet.\n",
      "  ConvergenceWarning,\n",
      "/opt/conda/lib/python3.7/site-packages/sklearn/neural_network/_multilayer_perceptron.py:696: ConvergenceWarning: Stochastic Optimizer: Maximum iterations (700) reached and the optimization hasn't converged yet.\n",
      "  ConvergenceWarning,\n",
      "/opt/conda/lib/python3.7/site-packages/sklearn/neural_network/_multilayer_perceptron.py:696: ConvergenceWarning: Stochastic Optimizer: Maximum iterations (700) reached and the optimization hasn't converged yet.\n",
      "  ConvergenceWarning,\n",
      "/opt/conda/lib/python3.7/site-packages/sklearn/neural_network/_multilayer_perceptron.py:696: ConvergenceWarning: Stochastic Optimizer: Maximum iterations (700) reached and the optimization hasn't converged yet.\n",
      "  ConvergenceWarning,\n",
      "/opt/conda/lib/python3.7/site-packages/sklearn/neural_network/_multilayer_perceptron.py:696: ConvergenceWarning: Stochastic Optimizer: Maximum iterations (700) reached and the optimization hasn't converged yet.\n",
      "  ConvergenceWarning,\n",
      "/opt/conda/lib/python3.7/site-packages/sklearn/neural_network/_multilayer_perceptron.py:696: ConvergenceWarning: Stochastic Optimizer: Maximum iterations (700) reached and the optimization hasn't converged yet.\n",
      "  ConvergenceWarning,\n",
      "/opt/conda/lib/python3.7/site-packages/sklearn/neural_network/_multilayer_perceptron.py:696: ConvergenceWarning: Stochastic Optimizer: Maximum iterations (700) reached and the optimization hasn't converged yet.\n",
      "  ConvergenceWarning,\n",
      "/opt/conda/lib/python3.7/site-packages/sklearn/neural_network/_multilayer_perceptron.py:696: ConvergenceWarning: Stochastic Optimizer: Maximum iterations (700) reached and the optimization hasn't converged yet.\n",
      "  ConvergenceWarning,\n",
      "/opt/conda/lib/python3.7/site-packages/sklearn/neural_network/_multilayer_perceptron.py:696: ConvergenceWarning: Stochastic Optimizer: Maximum iterations (700) reached and the optimization hasn't converged yet.\n",
      "  ConvergenceWarning,\n",
      "/opt/conda/lib/python3.7/site-packages/sklearn/neural_network/_multilayer_perceptron.py:696: ConvergenceWarning: Stochastic Optimizer: Maximum iterations (700) reached and the optimization hasn't converged yet.\n",
      "  ConvergenceWarning,\n",
      "/opt/conda/lib/python3.7/site-packages/sklearn/neural_network/_multilayer_perceptron.py:696: ConvergenceWarning: Stochastic Optimizer: Maximum iterations (700) reached and the optimization hasn't converged yet.\n",
      "  ConvergenceWarning,\n",
      "/opt/conda/lib/python3.7/site-packages/sklearn/neural_network/_multilayer_perceptron.py:696: ConvergenceWarning: Stochastic Optimizer: Maximum iterations (700) reached and the optimization hasn't converged yet.\n",
      "  ConvergenceWarning,\n",
      "/opt/conda/lib/python3.7/site-packages/sklearn/neural_network/_multilayer_perceptron.py:696: ConvergenceWarning: Stochastic Optimizer: Maximum iterations (700) reached and the optimization hasn't converged yet.\n",
      "  ConvergenceWarning,\n",
      "/opt/conda/lib/python3.7/site-packages/sklearn/neural_network/_multilayer_perceptron.py:696: ConvergenceWarning: Stochastic Optimizer: Maximum iterations (700) reached and the optimization hasn't converged yet.\n",
      "  ConvergenceWarning,\n",
      "/opt/conda/lib/python3.7/site-packages/sklearn/neural_network/_multilayer_perceptron.py:696: ConvergenceWarning: Stochastic Optimizer: Maximum iterations (700) reached and the optimization hasn't converged yet.\n",
      "  ConvergenceWarning,\n",
      "/opt/conda/lib/python3.7/site-packages/sklearn/neural_network/_multilayer_perceptron.py:696: ConvergenceWarning: Stochastic Optimizer: Maximum iterations (700) reached and the optimization hasn't converged yet.\n",
      "  ConvergenceWarning,\n",
      "/opt/conda/lib/python3.7/site-packages/sklearn/neural_network/_multilayer_perceptron.py:696: ConvergenceWarning: Stochastic Optimizer: Maximum iterations (700) reached and the optimization hasn't converged yet.\n",
      "  ConvergenceWarning,\n",
      "/opt/conda/lib/python3.7/site-packages/sklearn/neural_network/_multilayer_perceptron.py:696: ConvergenceWarning: Stochastic Optimizer: Maximum iterations (700) reached and the optimization hasn't converged yet.\n",
      "  ConvergenceWarning,\n",
      "/opt/conda/lib/python3.7/site-packages/sklearn/neural_network/_multilayer_perceptron.py:696: ConvergenceWarning: Stochastic Optimizer: Maximum iterations (700) reached and the optimization hasn't converged yet.\n",
      "  ConvergenceWarning,\n",
      "/opt/conda/lib/python3.7/site-packages/sklearn/neural_network/_multilayer_perceptron.py:696: ConvergenceWarning: Stochastic Optimizer: Maximum iterations (700) reached and the optimization hasn't converged yet.\n",
      "  ConvergenceWarning,\n",
      "/opt/conda/lib/python3.7/site-packages/sklearn/neural_network/_multilayer_perceptron.py:696: ConvergenceWarning: Stochastic Optimizer: Maximum iterations (700) reached and the optimization hasn't converged yet.\n",
      "  ConvergenceWarning,\n",
      "/opt/conda/lib/python3.7/site-packages/sklearn/neural_network/_multilayer_perceptron.py:696: ConvergenceWarning: Stochastic Optimizer: Maximum iterations (700) reached and the optimization hasn't converged yet.\n",
      "  ConvergenceWarning,\n",
      "/opt/conda/lib/python3.7/site-packages/sklearn/neural_network/_multilayer_perceptron.py:696: ConvergenceWarning: Stochastic Optimizer: Maximum iterations (700) reached and the optimization hasn't converged yet.\n",
      "  ConvergenceWarning,\n",
      "/opt/conda/lib/python3.7/site-packages/sklearn/neural_network/_multilayer_perceptron.py:696: ConvergenceWarning: Stochastic Optimizer: Maximum iterations (700) reached and the optimization hasn't converged yet.\n",
      "  ConvergenceWarning,\n",
      "/opt/conda/lib/python3.7/site-packages/sklearn/neural_network/_multilayer_perceptron.py:696: ConvergenceWarning: Stochastic Optimizer: Maximum iterations (700) reached and the optimization hasn't converged yet.\n",
      "  ConvergenceWarning,\n",
      "/opt/conda/lib/python3.7/site-packages/sklearn/neural_network/_multilayer_perceptron.py:696: ConvergenceWarning: Stochastic Optimizer: Maximum iterations (700) reached and the optimization hasn't converged yet.\n",
      "  ConvergenceWarning,\n",
      "/opt/conda/lib/python3.7/site-packages/sklearn/neural_network/_multilayer_perceptron.py:696: ConvergenceWarning: Stochastic Optimizer: Maximum iterations (700) reached and the optimization hasn't converged yet.\n",
      "  ConvergenceWarning,\n",
      "/opt/conda/lib/python3.7/site-packages/sklearn/neural_network/_multilayer_perceptron.py:696: ConvergenceWarning: Stochastic Optimizer: Maximum iterations (700) reached and the optimization hasn't converged yet.\n",
      "  ConvergenceWarning,\n",
      "/opt/conda/lib/python3.7/site-packages/sklearn/neural_network/_multilayer_perceptron.py:696: ConvergenceWarning: Stochastic Optimizer: Maximum iterations (700) reached and the optimization hasn't converged yet.\n",
      "  ConvergenceWarning,\n",
      "/opt/conda/lib/python3.7/site-packages/sklearn/neural_network/_multilayer_perceptron.py:696: ConvergenceWarning: Stochastic Optimizer: Maximum iterations (700) reached and the optimization hasn't converged yet.\n",
      "  ConvergenceWarning,\n",
      "/opt/conda/lib/python3.7/site-packages/sklearn/neural_network/_multilayer_perceptron.py:696: ConvergenceWarning: Stochastic Optimizer: Maximum iterations (700) reached and the optimization hasn't converged yet.\n",
      "  ConvergenceWarning,\n",
      "/opt/conda/lib/python3.7/site-packages/sklearn/neural_network/_multilayer_perceptron.py:696: ConvergenceWarning: Stochastic Optimizer: Maximum iterations (700) reached and the optimization hasn't converged yet.\n",
      "  ConvergenceWarning,\n",
      "/opt/conda/lib/python3.7/site-packages/sklearn/neural_network/_multilayer_perceptron.py:696: ConvergenceWarning: Stochastic Optimizer: Maximum iterations (700) reached and the optimization hasn't converged yet.\n",
      "  ConvergenceWarning,\n",
      "/opt/conda/lib/python3.7/site-packages/sklearn/neural_network/_multilayer_perceptron.py:696: ConvergenceWarning: Stochastic Optimizer: Maximum iterations (700) reached and the optimization hasn't converged yet.\n",
      "  ConvergenceWarning,\n",
      "/opt/conda/lib/python3.7/site-packages/sklearn/neural_network/_multilayer_perceptron.py:696: ConvergenceWarning: Stochastic Optimizer: Maximum iterations (700) reached and the optimization hasn't converged yet.\n",
      "  ConvergenceWarning,\n",
      "/opt/conda/lib/python3.7/site-packages/sklearn/neural_network/_multilayer_perceptron.py:696: ConvergenceWarning: Stochastic Optimizer: Maximum iterations (700) reached and the optimization hasn't converged yet.\n",
      "  ConvergenceWarning,\n",
      "/opt/conda/lib/python3.7/site-packages/sklearn/neural_network/_multilayer_perceptron.py:696: ConvergenceWarning: Stochastic Optimizer: Maximum iterations (700) reached and the optimization hasn't converged yet.\n",
      "  ConvergenceWarning,\n",
      "/opt/conda/lib/python3.7/site-packages/sklearn/neural_network/_multilayer_perceptron.py:696: ConvergenceWarning: Stochastic Optimizer: Maximum iterations (700) reached and the optimization hasn't converged yet.\n",
      "  ConvergenceWarning,\n",
      "/opt/conda/lib/python3.7/site-packages/sklearn/neural_network/_multilayer_perceptron.py:696: ConvergenceWarning: Stochastic Optimizer: Maximum iterations (700) reached and the optimization hasn't converged yet.\n",
      "  ConvergenceWarning,\n",
      "/opt/conda/lib/python3.7/site-packages/sklearn/neural_network/_multilayer_perceptron.py:696: ConvergenceWarning: Stochastic Optimizer: Maximum iterations (700) reached and the optimization hasn't converged yet.\n",
      "  ConvergenceWarning,\n",
      "/opt/conda/lib/python3.7/site-packages/sklearn/neural_network/_multilayer_perceptron.py:696: ConvergenceWarning: Stochastic Optimizer: Maximum iterations (700) reached and the optimization hasn't converged yet.\n",
      "  ConvergenceWarning,\n",
      "/opt/conda/lib/python3.7/site-packages/sklearn/neural_network/_multilayer_perceptron.py:696: ConvergenceWarning: Stochastic Optimizer: Maximum iterations (700) reached and the optimization hasn't converged yet.\n",
      "  ConvergenceWarning,\n",
      "/opt/conda/lib/python3.7/site-packages/sklearn/neural_network/_multilayer_perceptron.py:696: ConvergenceWarning: Stochastic Optimizer: Maximum iterations (700) reached and the optimization hasn't converged yet.\n",
      "  ConvergenceWarning,\n",
      "/opt/conda/lib/python3.7/site-packages/sklearn/neural_network/_multilayer_perceptron.py:696: ConvergenceWarning: Stochastic Optimizer: Maximum iterations (700) reached and the optimization hasn't converged yet.\n",
      "  ConvergenceWarning,\n",
      "/opt/conda/lib/python3.7/site-packages/sklearn/neural_network/_multilayer_perceptron.py:696: ConvergenceWarning: Stochastic Optimizer: Maximum iterations (700) reached and the optimization hasn't converged yet.\n",
      "  ConvergenceWarning,\n",
      "/opt/conda/lib/python3.7/site-packages/sklearn/neural_network/_multilayer_perceptron.py:696: ConvergenceWarning: Stochastic Optimizer: Maximum iterations (700) reached and the optimization hasn't converged yet.\n",
      "  ConvergenceWarning,\n",
      "/opt/conda/lib/python3.7/site-packages/sklearn/neural_network/_multilayer_perceptron.py:696: ConvergenceWarning: Stochastic Optimizer: Maximum iterations (700) reached and the optimization hasn't converged yet.\n",
      "  ConvergenceWarning,\n",
      "/opt/conda/lib/python3.7/site-packages/sklearn/neural_network/_multilayer_perceptron.py:696: ConvergenceWarning: Stochastic Optimizer: Maximum iterations (700) reached and the optimization hasn't converged yet.\n",
      "  ConvergenceWarning,\n",
      "/opt/conda/lib/python3.7/site-packages/sklearn/neural_network/_multilayer_perceptron.py:696: ConvergenceWarning: Stochastic Optimizer: Maximum iterations (700) reached and the optimization hasn't converged yet.\n",
      "  ConvergenceWarning,\n",
      "/opt/conda/lib/python3.7/site-packages/sklearn/neural_network/_multilayer_perceptron.py:696: ConvergenceWarning: Stochastic Optimizer: Maximum iterations (700) reached and the optimization hasn't converged yet.\n",
      "  ConvergenceWarning,\n",
      "/opt/conda/lib/python3.7/site-packages/sklearn/neural_network/_multilayer_perceptron.py:696: ConvergenceWarning: Stochastic Optimizer: Maximum iterations (700) reached and the optimization hasn't converged yet.\n",
      "  ConvergenceWarning,\n",
      "/opt/conda/lib/python3.7/site-packages/sklearn/neural_network/_multilayer_perceptron.py:696: ConvergenceWarning: Stochastic Optimizer: Maximum iterations (700) reached and the optimization hasn't converged yet.\n",
      "  ConvergenceWarning,\n",
      "/opt/conda/lib/python3.7/site-packages/sklearn/neural_network/_multilayer_perceptron.py:696: ConvergenceWarning: Stochastic Optimizer: Maximum iterations (700) reached and the optimization hasn't converged yet.\n",
      "  ConvergenceWarning,\n",
      "/opt/conda/lib/python3.7/site-packages/sklearn/neural_network/_multilayer_perceptron.py:696: ConvergenceWarning: Stochastic Optimizer: Maximum iterations (700) reached and the optimization hasn't converged yet.\n",
      "  ConvergenceWarning,\n",
      "/opt/conda/lib/python3.7/site-packages/sklearn/neural_network/_multilayer_perceptron.py:696: ConvergenceWarning: Stochastic Optimizer: Maximum iterations (700) reached and the optimization hasn't converged yet.\n",
      "  ConvergenceWarning,\n",
      "/opt/conda/lib/python3.7/site-packages/sklearn/neural_network/_multilayer_perceptron.py:696: ConvergenceWarning: Stochastic Optimizer: Maximum iterations (700) reached and the optimization hasn't converged yet.\n",
      "  ConvergenceWarning,\n",
      "/opt/conda/lib/python3.7/site-packages/sklearn/neural_network/_multilayer_perceptron.py:696: ConvergenceWarning: Stochastic Optimizer: Maximum iterations (700) reached and the optimization hasn't converged yet.\n",
      "  ConvergenceWarning,\n",
      "/opt/conda/lib/python3.7/site-packages/sklearn/neural_network/_multilayer_perceptron.py:696: ConvergenceWarning: Stochastic Optimizer: Maximum iterations (700) reached and the optimization hasn't converged yet.\n",
      "  ConvergenceWarning,\n",
      "/opt/conda/lib/python3.7/site-packages/sklearn/neural_network/_multilayer_perceptron.py:696: ConvergenceWarning: Stochastic Optimizer: Maximum iterations (700) reached and the optimization hasn't converged yet.\n",
      "  ConvergenceWarning,\n",
      "/opt/conda/lib/python3.7/site-packages/sklearn/neural_network/_multilayer_perceptron.py:696: ConvergenceWarning: Stochastic Optimizer: Maximum iterations (700) reached and the optimization hasn't converged yet.\n",
      "  ConvergenceWarning,\n",
      "/opt/conda/lib/python3.7/site-packages/sklearn/neural_network/_multilayer_perceptron.py:696: ConvergenceWarning: Stochastic Optimizer: Maximum iterations (700) reached and the optimization hasn't converged yet.\n",
      "  ConvergenceWarning,\n",
      "/opt/conda/lib/python3.7/site-packages/sklearn/neural_network/_multilayer_perceptron.py:696: ConvergenceWarning: Stochastic Optimizer: Maximum iterations (700) reached and the optimization hasn't converged yet.\n",
      "  ConvergenceWarning,\n",
      "/opt/conda/lib/python3.7/site-packages/sklearn/neural_network/_multilayer_perceptron.py:696: ConvergenceWarning: Stochastic Optimizer: Maximum iterations (700) reached and the optimization hasn't converged yet.\n",
      "  ConvergenceWarning,\n",
      "/opt/conda/lib/python3.7/site-packages/sklearn/neural_network/_multilayer_perceptron.py:696: ConvergenceWarning: Stochastic Optimizer: Maximum iterations (700) reached and the optimization hasn't converged yet.\n",
      "  ConvergenceWarning,\n",
      "/opt/conda/lib/python3.7/site-packages/sklearn/neural_network/_multilayer_perceptron.py:696: ConvergenceWarning: Stochastic Optimizer: Maximum iterations (700) reached and the optimization hasn't converged yet.\n",
      "  ConvergenceWarning,\n",
      "/opt/conda/lib/python3.7/site-packages/sklearn/neural_network/_multilayer_perceptron.py:696: ConvergenceWarning: Stochastic Optimizer: Maximum iterations (700) reached and the optimization hasn't converged yet.\n",
      "  ConvergenceWarning,\n",
      "/opt/conda/lib/python3.7/site-packages/sklearn/neural_network/_multilayer_perceptron.py:696: ConvergenceWarning: Stochastic Optimizer: Maximum iterations (700) reached and the optimization hasn't converged yet.\n",
      "  ConvergenceWarning,\n",
      "/opt/conda/lib/python3.7/site-packages/sklearn/neural_network/_multilayer_perceptron.py:696: ConvergenceWarning: Stochastic Optimizer: Maximum iterations (700) reached and the optimization hasn't converged yet.\n",
      "  ConvergenceWarning,\n",
      "/opt/conda/lib/python3.7/site-packages/sklearn/neural_network/_multilayer_perceptron.py:696: ConvergenceWarning: Stochastic Optimizer: Maximum iterations (700) reached and the optimization hasn't converged yet.\n",
      "  ConvergenceWarning,\n",
      "/opt/conda/lib/python3.7/site-packages/sklearn/neural_network/_multilayer_perceptron.py:696: ConvergenceWarning: Stochastic Optimizer: Maximum iterations (700) reached and the optimization hasn't converged yet.\n",
      "  ConvergenceWarning,\n"
     ]
    },
    {
     "data": {
      "text/plain": [
       "{'activation': 'relu',\n",
       " 'hidden_layer_sizes': (50, 50, 50),\n",
       " 'learning_rate': 'constant',\n",
       " 'solver': 'adam'}"
      ]
     },
     "execution_count": 22,
     "metadata": {},
     "output_type": "execute_result"
    }
   ],
   "source": [
    "param_grid = {'hidden_layer_sizes': [(50,50,50), (50,100,50), (100,1)],\n",
    "              'activation': ['relu','tanh','logistic'],\n",
    "              'learning_rate': ['constant','adaptive'],\n",
    "              'solver': ['adam', 'sgd']}\n",
    "\n",
    "mlp_gscv = GridSearchCV(\n",
    "    mlp,\n",
    "    param_grid,\n",
    "    cv=5, verbose=0, n_jobs=-1)\n",
    "\n",
    "mlp_gscv.fit(X, y)\n",
    "\n",
    "\n",
    "mlp_gscv.best_params_"
   ]
  },
  {
   "cell_type": "markdown",
   "id": "68addf67",
   "metadata": {
    "papermill": {
     "duration": 0.036522,
     "end_time": "2022-09-30T15:11:43.991751",
     "exception": false,
     "start_time": "2022-09-30T15:11:43.955229",
     "status": "completed"
    },
    "tags": []
   },
   "source": [
    "### 6.3: Testing"
   ]
  },
  {
   "cell_type": "markdown",
   "id": "5f34ed8a",
   "metadata": {
    "papermill": {
     "duration": 0.016036,
     "end_time": "2022-09-30T15:11:44.024100",
     "exception": false,
     "start_time": "2022-09-30T15:11:44.008064",
     "status": "completed"
    },
    "tags": []
   },
   "source": [
    "We can now get the best score from the model:"
   ]
  },
  {
   "cell_type": "code",
   "execution_count": 23,
   "id": "3b5df004",
   "metadata": {
    "execution": {
     "iopub.execute_input": "2022-09-30T15:11:44.057845Z",
     "iopub.status.busy": "2022-09-30T15:11:44.057472Z",
     "iopub.status.idle": "2022-09-30T15:11:44.063656Z",
     "shell.execute_reply": "2022-09-30T15:11:44.062776Z"
    },
    "papermill": {
     "duration": 0.025307,
     "end_time": "2022-09-30T15:11:44.065742",
     "exception": false,
     "start_time": "2022-09-30T15:11:44.040435",
     "status": "completed"
    },
    "tags": []
   },
   "outputs": [
    {
     "data": {
      "text/plain": [
       "0.9385909357459999"
      ]
     },
     "execution_count": 23,
     "metadata": {},
     "output_type": "execute_result"
    }
   ],
   "source": [
    "mlp_gscv.best_score_"
   ]
  },
  {
   "cell_type": "markdown",
   "id": "931bdd7d",
   "metadata": {
    "papermill": {
     "duration": 0.015287,
     "end_time": "2022-09-30T15:11:44.096371",
     "exception": false,
     "start_time": "2022-09-30T15:11:44.081084",
     "status": "completed"
    },
    "tags": []
   },
   "source": [
    "So, we have a model with an accuracy of 94%."
   ]
  },
  {
   "cell_type": "markdown",
   "id": "b4f4b4a8",
   "metadata": {
    "papermill": {
     "duration": 0.015258,
     "end_time": "2022-09-30T15:11:44.127228",
     "exception": false,
     "start_time": "2022-09-30T15:11:44.111970",
     "status": "completed"
    },
    "tags": []
   },
   "source": [
    "## 7: Decision Tree Classifier"
   ]
  },
  {
   "cell_type": "markdown",
   "id": "087305e1",
   "metadata": {
    "papermill": {
     "duration": 0.015065,
     "end_time": "2022-09-30T15:11:44.157616",
     "exception": false,
     "start_time": "2022-09-30T15:11:44.142551",
     "status": "completed"
    },
    "tags": []
   },
   "source": [
    "### 7.1: Instantiation"
   ]
  },
  {
   "cell_type": "code",
   "execution_count": 24,
   "id": "022ce2bc",
   "metadata": {
    "execution": {
     "iopub.execute_input": "2022-09-30T15:11:44.189815Z",
     "iopub.status.busy": "2022-09-30T15:11:44.189483Z",
     "iopub.status.idle": "2022-09-30T15:11:44.219100Z",
     "shell.execute_reply": "2022-09-30T15:11:44.218194Z"
    },
    "papermill": {
     "duration": 0.048293,
     "end_time": "2022-09-30T15:11:44.221312",
     "exception": false,
     "start_time": "2022-09-30T15:11:44.173019",
     "status": "completed"
    },
    "tags": []
   },
   "outputs": [],
   "source": [
    "from sklearn.tree import DecisionTreeClassifier\n",
    "dt = DecisionTreeClassifier(random_state = 1)"
   ]
  },
  {
   "cell_type": "markdown",
   "id": "943d0250",
   "metadata": {
    "papermill": {
     "duration": 0.015625,
     "end_time": "2022-09-30T15:11:44.252759",
     "exception": false,
     "start_time": "2022-09-30T15:11:44.237134",
     "status": "completed"
    },
    "tags": []
   },
   "source": [
    "### 7.2: Training"
   ]
  },
  {
   "cell_type": "code",
   "execution_count": 25,
   "id": "dfe75d50",
   "metadata": {
    "execution": {
     "iopub.execute_input": "2022-09-30T15:11:44.284913Z",
     "iopub.status.busy": "2022-09-30T15:11:44.284609Z",
     "iopub.status.idle": "2022-09-30T15:11:44.595510Z",
     "shell.execute_reply": "2022-09-30T15:11:44.593904Z"
    },
    "papermill": {
     "duration": 0.330405,
     "end_time": "2022-09-30T15:11:44.598574",
     "exception": false,
     "start_time": "2022-09-30T15:11:44.268169",
     "status": "completed"
    },
    "tags": []
   },
   "outputs": [
    {
     "name": "stderr",
     "output_type": "stream",
     "text": [
      "/opt/conda/lib/python3.7/site-packages/sklearn/model_selection/_validation.py:372: FitFailedWarning: \n",
      "20 fits failed out of a total of 60.\n",
      "The score on these train-test partitions for these parameters will be set to nan.\n",
      "If these failures are not expected, you can try to debug them by setting error_score='raise'.\n",
      "\n",
      "Below are more details about the failures:\n",
      "--------------------------------------------------------------------------------\n",
      "20 fits failed with the following error:\n",
      "Traceback (most recent call last):\n",
      "  File \"/opt/conda/lib/python3.7/site-packages/sklearn/model_selection/_validation.py\", line 680, in _fit_and_score\n",
      "    estimator.fit(X_train, y_train, **fit_params)\n",
      "  File \"/opt/conda/lib/python3.7/site-packages/sklearn/tree/_classes.py\", line 942, in fit\n",
      "    X_idx_sorted=X_idx_sorted,\n",
      "  File \"/opt/conda/lib/python3.7/site-packages/sklearn/tree/_classes.py\", line 352, in fit\n",
      "    criterion = CRITERIA_CLF[self.criterion](\n",
      "KeyError: 'log_loss'\n",
      "\n",
      "  warnings.warn(some_fits_failed_message, FitFailedWarning)\n",
      "/opt/conda/lib/python3.7/site-packages/sklearn/model_selection/_search.py:972: UserWarning: One or more of the test scores are non-finite: [0.72676552 0.80716931 0.78062327 0.81594873 0.7540119  0.8112323\n",
      " 0.79797437 0.83850884        nan        nan        nan        nan]\n",
      "  category=UserWarning,\n"
     ]
    },
    {
     "data": {
      "text/plain": [
       "{'criterion': 'entropy', 'max_depth': 10}"
      ]
     },
     "execution_count": 25,
     "metadata": {},
     "output_type": "execute_result"
    }
   ],
   "source": [
    "param_grid = {'criterion': ['gini', 'entropy', 'log_loss'],\n",
    "              'max_depth': [3, 5, 7, 10]}\n",
    "\n",
    "dt_gscv = GridSearchCV(\n",
    "    dt,\n",
    "    param_grid,\n",
    "    cv=5, verbose=0, n_jobs=-1)\n",
    "\n",
    "dt_gscv.fit(X, y)\n",
    "\n",
    "\n",
    "dt_gscv.best_params_"
   ]
  },
  {
   "cell_type": "markdown",
   "id": "5b279689",
   "metadata": {
    "papermill": {
     "duration": 0.018884,
     "end_time": "2022-09-30T15:11:44.636719",
     "exception": false,
     "start_time": "2022-09-30T15:11:44.617835",
     "status": "completed"
    },
    "tags": []
   },
   "source": [
    "### 7.3: Testing"
   ]
  },
  {
   "cell_type": "markdown",
   "id": "dcab9acb",
   "metadata": {
    "papermill": {
     "duration": 0.018538,
     "end_time": "2022-09-30T15:11:44.673935",
     "exception": false,
     "start_time": "2022-09-30T15:11:44.655397",
     "status": "completed"
    },
    "tags": []
   },
   "source": [
    "We can now get the best score from the model:"
   ]
  },
  {
   "cell_type": "code",
   "execution_count": 26,
   "id": "219b6017",
   "metadata": {
    "execution": {
     "iopub.execute_input": "2022-09-30T15:11:44.711992Z",
     "iopub.status.busy": "2022-09-30T15:11:44.711072Z",
     "iopub.status.idle": "2022-09-30T15:11:44.717937Z",
     "shell.execute_reply": "2022-09-30T15:11:44.717012Z"
    },
    "papermill": {
     "duration": 0.027749,
     "end_time": "2022-09-30T15:11:44.720350",
     "exception": false,
     "start_time": "2022-09-30T15:11:44.692601",
     "status": "completed"
    },
    "tags": []
   },
   "outputs": [
    {
     "data": {
      "text/plain": [
       "0.838508838066516"
      ]
     },
     "execution_count": 26,
     "metadata": {},
     "output_type": "execute_result"
    }
   ],
   "source": [
    "dt_gscv.best_score_"
   ]
  },
  {
   "cell_type": "markdown",
   "id": "64d3933c",
   "metadata": {
    "papermill": {
     "duration": 0.016571,
     "end_time": "2022-09-30T15:11:44.753995",
     "exception": false,
     "start_time": "2022-09-30T15:11:44.737424",
     "status": "completed"
    },
    "tags": []
   },
   "source": [
    "So, we have a model with an accuracy of 84%."
   ]
  },
  {
   "cell_type": "markdown",
   "id": "d274afe8",
   "metadata": {
    "papermill": {
     "duration": 0.017824,
     "end_time": "2022-09-30T15:11:44.788526",
     "exception": false,
     "start_time": "2022-09-30T15:11:44.770702",
     "status": "completed"
    },
    "tags": []
   },
   "source": [
    "## 8: Random Forest Classifier"
   ]
  },
  {
   "cell_type": "markdown",
   "id": "929d2900",
   "metadata": {
    "papermill": {
     "duration": 0.018415,
     "end_time": "2022-09-30T15:11:44.826265",
     "exception": false,
     "start_time": "2022-09-30T15:11:44.807850",
     "status": "completed"
    },
    "tags": []
   },
   "source": [
    "### 8.1: Instantiation"
   ]
  },
  {
   "cell_type": "code",
   "execution_count": 27,
   "id": "46e68024",
   "metadata": {
    "execution": {
     "iopub.execute_input": "2022-09-30T15:11:44.865662Z",
     "iopub.status.busy": "2022-09-30T15:11:44.864639Z",
     "iopub.status.idle": "2022-09-30T15:11:44.923743Z",
     "shell.execute_reply": "2022-09-30T15:11:44.922575Z"
    },
    "papermill": {
     "duration": 0.081424,
     "end_time": "2022-09-30T15:11:44.926405",
     "exception": false,
     "start_time": "2022-09-30T15:11:44.844981",
     "status": "completed"
    },
    "tags": []
   },
   "outputs": [],
   "source": [
    "from sklearn.ensemble import RandomForestClassifier\n",
    "\n",
    "random_forest = RandomForestClassifier(n_estimators=700, random_state = 1, n_jobs = -1)"
   ]
  },
  {
   "cell_type": "markdown",
   "id": "4bd9ec29",
   "metadata": {
    "papermill": {
     "duration": 0.016062,
     "end_time": "2022-09-30T15:11:44.959562",
     "exception": false,
     "start_time": "2022-09-30T15:11:44.943500",
     "status": "completed"
    },
    "tags": []
   },
   "source": [
    "### 8.2: Training"
   ]
  },
  {
   "cell_type": "code",
   "execution_count": 28,
   "id": "42093ef5",
   "metadata": {
    "execution": {
     "iopub.execute_input": "2022-09-30T15:11:44.992761Z",
     "iopub.status.busy": "2022-09-30T15:11:44.992448Z",
     "iopub.status.idle": "2022-09-30T15:12:31.479403Z",
     "shell.execute_reply": "2022-09-30T15:12:31.478533Z"
    },
    "papermill": {
     "duration": 46.505873,
     "end_time": "2022-09-30T15:12:31.481483",
     "exception": false,
     "start_time": "2022-09-30T15:11:44.975610",
     "status": "completed"
    },
    "tags": []
   },
   "outputs": [
    {
     "name": "stderr",
     "output_type": "stream",
     "text": [
      "/opt/conda/lib/python3.7/site-packages/sklearn/model_selection/_validation.py:372: FitFailedWarning: \n",
      "20 fits failed out of a total of 60.\n",
      "The score on these train-test partitions for these parameters will be set to nan.\n",
      "If these failures are not expected, you can try to debug them by setting error_score='raise'.\n",
      "\n",
      "Below are more details about the failures:\n",
      "--------------------------------------------------------------------------------\n",
      "20 fits failed with the following error:\n",
      "Traceback (most recent call last):\n",
      "  File \"/opt/conda/lib/python3.7/site-packages/sklearn/model_selection/_validation.py\", line 680, in _fit_and_score\n",
      "    estimator.fit(X_train, y_train, **fit_params)\n",
      "  File \"/opt/conda/lib/python3.7/site-packages/sklearn/ensemble/_forest.py\", line 467, in fit\n",
      "    for i, t in enumerate(trees)\n",
      "  File \"/opt/conda/lib/python3.7/site-packages/joblib/parallel.py\", line 1054, in __call__\n",
      "    self.retrieve()\n",
      "  File \"/opt/conda/lib/python3.7/site-packages/joblib/parallel.py\", line 933, in retrieve\n",
      "    self._output.extend(job.get(timeout=self.timeout))\n",
      "  File \"/opt/conda/lib/python3.7/multiprocessing/pool.py\", line 657, in get\n",
      "    raise self._value\n",
      "  File \"/opt/conda/lib/python3.7/multiprocessing/pool.py\", line 121, in worker\n",
      "    result = (True, func(*args, **kwds))\n",
      "  File \"/opt/conda/lib/python3.7/site-packages/joblib/_parallel_backends.py\", line 595, in __call__\n",
      "    return self.func(*args, **kwargs)\n",
      "  File \"/opt/conda/lib/python3.7/site-packages/joblib/parallel.py\", line 263, in __call__\n",
      "    for func, args, kwargs in self.items]\n",
      "  File \"/opt/conda/lib/python3.7/site-packages/joblib/parallel.py\", line 263, in <listcomp>\n",
      "    for func, args, kwargs in self.items]\n",
      "  File \"/opt/conda/lib/python3.7/site-packages/sklearn/utils/fixes.py\", line 216, in __call__\n",
      "    return self.function(*args, **kwargs)\n",
      "  File \"/opt/conda/lib/python3.7/site-packages/sklearn/ensemble/_forest.py\", line 185, in _parallel_build_trees\n",
      "    tree.fit(X, y, sample_weight=curr_sample_weight, check_input=False)\n",
      "  File \"/opt/conda/lib/python3.7/site-packages/sklearn/tree/_classes.py\", line 942, in fit\n",
      "    X_idx_sorted=X_idx_sorted,\n",
      "  File \"/opt/conda/lib/python3.7/site-packages/sklearn/tree/_classes.py\", line 352, in fit\n",
      "    criterion = CRITERIA_CLF[self.criterion](\n",
      "KeyError: 'log_loss'\n",
      "\n",
      "  warnings.warn(some_fits_failed_message, FitFailedWarning)\n",
      "/opt/conda/lib/python3.7/site-packages/sklearn/model_selection/_search.py:972: UserWarning: One or more of the test scores are non-finite: [0.74644048 0.77885063 0.79564045 0.82286839 0.74354025 0.78523415\n",
      " 0.8055106  0.84314484        nan        nan        nan        nan]\n",
      "  category=UserWarning,\n"
     ]
    },
    {
     "data": {
      "text/plain": [
       "{'criterion': 'entropy', 'max_depth': 10}"
      ]
     },
     "execution_count": 28,
     "metadata": {},
     "output_type": "execute_result"
    }
   ],
   "source": [
    "param_grid = {'criterion': ['gini', 'entropy', 'log_loss'],\n",
    "              'max_depth': [3, 5, 7, 10]}\n",
    "\n",
    "random_forest_gscv = GridSearchCV(\n",
    "    random_forest,\n",
    "    param_grid,\n",
    "    cv=5, verbose=0, n_jobs=-1)\n",
    "\n",
    "random_forest_gscv.fit(X, y)\n",
    "\n",
    "\n",
    "random_forest_gscv.best_params_"
   ]
  },
  {
   "cell_type": "markdown",
   "id": "b2281b76",
   "metadata": {
    "papermill": {
     "duration": 0.016143,
     "end_time": "2022-09-30T15:12:31.514291",
     "exception": false,
     "start_time": "2022-09-30T15:12:31.498148",
     "status": "completed"
    },
    "tags": []
   },
   "source": [
    "### 8.3: Testing"
   ]
  },
  {
   "cell_type": "markdown",
   "id": "c974c87f",
   "metadata": {
    "papermill": {
     "duration": 0.015711,
     "end_time": "2022-09-30T15:12:31.546197",
     "exception": false,
     "start_time": "2022-09-30T15:12:31.530486",
     "status": "completed"
    },
    "tags": []
   },
   "source": [
    "We can now get the best score from the model:"
   ]
  },
  {
   "cell_type": "code",
   "execution_count": 29,
   "id": "5a749ec8",
   "metadata": {
    "execution": {
     "iopub.execute_input": "2022-09-30T15:12:31.580920Z",
     "iopub.status.busy": "2022-09-30T15:12:31.579396Z",
     "iopub.status.idle": "2022-09-30T15:12:31.586134Z",
     "shell.execute_reply": "2022-09-30T15:12:31.585275Z"
    },
    "papermill": {
     "duration": 0.025692,
     "end_time": "2022-09-30T15:12:31.588081",
     "exception": false,
     "start_time": "2022-09-30T15:12:31.562389",
     "status": "completed"
    },
    "tags": []
   },
   "outputs": [
    {
     "data": {
      "text/plain": [
       "0.8431448437630896"
      ]
     },
     "execution_count": 29,
     "metadata": {},
     "output_type": "execute_result"
    }
   ],
   "source": [
    "random_forest_gscv.best_score_"
   ]
  },
  {
   "cell_type": "markdown",
   "id": "296cd5f1",
   "metadata": {
    "papermill": {
     "duration": 0.015899,
     "end_time": "2022-09-30T15:12:31.620317",
     "exception": false,
     "start_time": "2022-09-30T15:12:31.604418",
     "status": "completed"
    },
    "tags": []
   },
   "source": [
    "So, we have a model with an accuracy of 84%."
   ]
  },
  {
   "cell_type": "markdown",
   "id": "9773379d",
   "metadata": {
    "papermill": {
     "duration": 0.015888,
     "end_time": "2022-09-30T15:12:31.652200",
     "exception": false,
     "start_time": "2022-09-30T15:12:31.636312",
     "status": "completed"
    },
    "tags": []
   },
   "source": [
    "## 9: XGBoosted Random Forest"
   ]
  },
  {
   "cell_type": "markdown",
   "id": "ae89fbe5",
   "metadata": {
    "papermill": {
     "duration": 0.016128,
     "end_time": "2022-09-30T15:12:31.684483",
     "exception": false,
     "start_time": "2022-09-30T15:12:31.668355",
     "status": "completed"
    },
    "tags": []
   },
   "source": [
    "### 9.1: Instantiation"
   ]
  },
  {
   "cell_type": "code",
   "execution_count": 30,
   "id": "d43be7d2",
   "metadata": {
    "execution": {
     "iopub.execute_input": "2022-09-30T15:12:31.719474Z",
     "iopub.status.busy": "2022-09-30T15:12:31.718069Z",
     "iopub.status.idle": "2022-09-30T15:12:31.818668Z",
     "shell.execute_reply": "2022-09-30T15:12:31.817769Z"
    },
    "papermill": {
     "duration": 0.120129,
     "end_time": "2022-09-30T15:12:31.821045",
     "exception": false,
     "start_time": "2022-09-30T15:12:31.700916",
     "status": "completed"
    },
    "tags": []
   },
   "outputs": [],
   "source": [
    "from sklearn.preprocessing import LabelEncoder\n",
    "le = LabelEncoder()\n",
    "y_xgb = le.fit_transform(y)\n",
    "\n",
    "\n",
    "from xgboost import XGBClassifier\n",
    "xgb = XGBClassifier(n_estimators=1000, random_state = 1)"
   ]
  },
  {
   "cell_type": "markdown",
   "id": "166ed72f",
   "metadata": {
    "papermill": {
     "duration": 0.016081,
     "end_time": "2022-09-30T15:12:31.853630",
     "exception": false,
     "start_time": "2022-09-30T15:12:31.837549",
     "status": "completed"
    },
    "tags": []
   },
   "source": [
    "### 9.2: Training"
   ]
  },
  {
   "cell_type": "code",
   "execution_count": 31,
   "id": "12f2b8da",
   "metadata": {
    "execution": {
     "iopub.execute_input": "2022-09-30T15:12:31.887966Z",
     "iopub.status.busy": "2022-09-30T15:12:31.887118Z",
     "iopub.status.idle": "2022-09-30T15:32:22.999098Z",
     "shell.execute_reply": "2022-09-30T15:32:22.998162Z"
    },
    "papermill": {
     "duration": 1191.145543,
     "end_time": "2022-09-30T15:32:23.015520",
     "exception": false,
     "start_time": "2022-09-30T15:12:31.869977",
     "status": "completed"
    },
    "tags": []
   },
   "outputs": [
    {
     "data": {
      "text/plain": [
       "{'eta': 0.05, 'learning_rate': 0.05, 'max_depth': 3, 'subsample': 0.7}"
      ]
     },
     "execution_count": 31,
     "metadata": {},
     "output_type": "execute_result"
    }
   ],
   "source": [
    "param_grid = {\n",
    "    'eta': [0.05, 0.1, 0.15, 0.2],\n",
    "    'max_depth': [3, 5, 7, 9],\n",
    "    'subsample': [0.5, 0.7, 0.9],\n",
    "    'learning_rate': [0.05, 0.1, 0.3],\n",
    "}\n",
    "\n",
    "from sklearn.model_selection import GridSearchCV\n",
    "xgb_gscv = GridSearchCV(\n",
    "    xgb,\n",
    "    param_grid,\n",
    "    cv=5, verbose=0, n_jobs=-1)\n",
    "\n",
    "xgb_gscv.fit(X, y_xgb)\n",
    "xgb_gscv.best_params_"
   ]
  },
  {
   "cell_type": "markdown",
   "id": "6064b508",
   "metadata": {
    "papermill": {
     "duration": 0.016371,
     "end_time": "2022-09-30T15:32:23.048546",
     "exception": false,
     "start_time": "2022-09-30T15:32:23.032175",
     "status": "completed"
    },
    "tags": []
   },
   "source": [
    "### 9.3: Testing"
   ]
  },
  {
   "cell_type": "markdown",
   "id": "ab5e4e18",
   "metadata": {
    "papermill": {
     "duration": 0.016548,
     "end_time": "2022-09-30T15:32:23.134261",
     "exception": false,
     "start_time": "2022-09-30T15:32:23.117713",
     "status": "completed"
    },
    "tags": []
   },
   "source": [
    "We can now get the best score from the model:"
   ]
  },
  {
   "cell_type": "code",
   "execution_count": 32,
   "id": "4a0b7dee",
   "metadata": {
    "execution": {
     "iopub.execute_input": "2022-09-30T15:32:23.168681Z",
     "iopub.status.busy": "2022-09-30T15:32:23.167998Z",
     "iopub.status.idle": "2022-09-30T15:32:23.174805Z",
     "shell.execute_reply": "2022-09-30T15:32:23.173752Z"
    },
    "papermill": {
     "duration": 0.02657,
     "end_time": "2022-09-30T15:32:23.177122",
     "exception": false,
     "start_time": "2022-09-30T15:32:23.150552",
     "status": "completed"
    },
    "tags": []
   },
   "outputs": [
    {
     "data": {
      "text/plain": [
       "0.843655859931306"
      ]
     },
     "execution_count": 32,
     "metadata": {},
     "output_type": "execute_result"
    }
   ],
   "source": [
    "xgb_gscv.best_score_"
   ]
  },
  {
   "cell_type": "markdown",
   "id": "90ba29c9",
   "metadata": {
    "papermill": {
     "duration": 0.016607,
     "end_time": "2022-09-30T15:32:23.210171",
     "exception": false,
     "start_time": "2022-09-30T15:32:23.193564",
     "status": "completed"
    },
    "tags": []
   },
   "source": [
    "So, we have a model with an accuracy of 84%."
   ]
  }
 ],
 "metadata": {
  "kernelspec": {
   "display_name": "Python 3",
   "language": "python",
   "name": "python3"
  },
  "language_info": {
   "codemirror_mode": {
    "name": "ipython",
    "version": 3
   },
   "file_extension": ".py",
   "mimetype": "text/x-python",
   "name": "python",
   "nbconvert_exporter": "python",
   "pygments_lexer": "ipython3",
   "version": "3.7.12"
  },
  "papermill": {
   "default_parameters": {},
   "duration": 1923.906303,
   "end_time": "2022-09-30T15:32:25.850912",
   "environment_variables": {},
   "exception": null,
   "input_path": "__notebook__.ipynb",
   "output_path": "__notebook__.ipynb",
   "parameters": {},
   "start_time": "2022-09-30T15:00:21.944609",
   "version": "2.3.4"
  }
 },
 "nbformat": 4,
 "nbformat_minor": 5
}
